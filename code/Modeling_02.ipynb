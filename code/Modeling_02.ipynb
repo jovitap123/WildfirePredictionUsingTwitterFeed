{
 "cells": [
  {
   "cell_type": "markdown",
   "metadata": {},
   "source": [
    "### Import libraries"
   ]
  },
  {
   "cell_type": "code",
   "execution_count": 1,
   "metadata": {},
   "outputs": [],
   "source": [
    "import pandas as pd\n",
    "import pickle\n",
    "\n",
    "from sklearn.model_selection import train_test_split, GridSearchCV\n",
    "from sklearn.pipeline import Pipeline\n",
    "from sklearn.preprocessing import StandardScaler\n",
    "from sklearn.feature_extraction.text import CountVectorizer, TfidfVectorizer\n",
    "from sklearn.linear_model import LogisticRegression\n",
    "from sklearn.naive_bayes import BernoulliNB, MultinomialNB, GaussianNB\n",
    "from sklearn.tree import DecisionTreeClassifier\n",
    "from sklearn.ensemble import BaggingClassifier, RandomForestClassifier, ExtraTreesClassifier, AdaBoostClassifier\n",
    "from sklearn.preprocessing import FunctionTransformer"
   ]
  },
  {
   "cell_type": "markdown",
   "metadata": {},
   "source": [
    "### Load data"
   ]
  },
  {
   "cell_type": "code",
   "execution_count": 5,
   "metadata": {},
   "outputs": [],
   "source": [
    "df = pd.read_csv('../data/cleaned_train_data.csv')"
   ]
  },
  {
   "cell_type": "code",
   "execution_count": 8,
   "metadata": {},
   "outputs": [],
   "source": [
    "X = df['text']\n",
    "y = df['label']"
   ]
  },
  {
   "cell_type": "markdown",
   "metadata": {},
   "source": [
    "### Split data"
   ]
  },
  {
   "cell_type": "code",
   "execution_count": 10,
   "metadata": {},
   "outputs": [],
   "source": [
    "X_train, X_test, y_train, y_test = train_test_split(X, y, stratify=y, random_state=42, test_size=0.3)"
   ]
  },
  {
   "cell_type": "markdown",
   "metadata": {},
   "source": [
    "## Modeling with CountVectorizer"
   ]
  },
  {
   "cell_type": "markdown",
   "metadata": {},
   "source": [
    "### Logistic Regression"
   ]
  },
  {
   "cell_type": "code",
   "execution_count": 117,
   "metadata": {},
   "outputs": [
    {
     "data": {
      "text/plain": [
       "{'cvec__min_df': 1, 'cvec__ngram_range': (1, 2)}"
      ]
     },
     "execution_count": 117,
     "metadata": {},
     "output_type": "execute_result"
    }
   ],
   "source": [
    "pipe_cvec_lr = Pipeline([(\"cvec\", CountVectorizer()),\n",
    "                          ('ss', StandardScaler(with_mean=False)),\n",
    "                         (\"lr\", LogisticRegression(max_iter = 2000))])\n",
    "pipe_cvec_lr_params = {'cvec__min_df': [1,2,3],\n",
    "                       \"cvec__ngram_range\": [(1,1),(1,2)]\n",
    "                       }\n",
    "gs_cvec_lr = GridSearchCV(pipe_cvec_lr,\n",
    "                          param_grid = pipe_cvec_lr_params,\n",
    "                          cv = 5)\n",
    "gs_cvec_lr.fit(X_train, y_train)\n",
    "gs_cvec_lr_model = gs_cvec_lr.best_estimator_\n",
    "gs_cvec_lr.best_params_"
   ]
  },
  {
   "cell_type": "code",
   "execution_count": 118,
   "metadata": {},
   "outputs": [
    {
     "data": {
      "text/plain": [
       "0.9089795604226453"
      ]
     },
     "execution_count": 118,
     "metadata": {},
     "output_type": "execute_result"
    }
   ],
   "source": [
    "gs_cvec_lr.best_score_"
   ]
  },
  {
   "cell_type": "code",
   "execution_count": 119,
   "metadata": {},
   "outputs": [
    {
     "data": {
      "text/plain": [
       "0.9995309568480301"
      ]
     },
     "execution_count": 119,
     "metadata": {},
     "output_type": "execute_result"
    }
   ],
   "source": [
    "gs_cvec_lr_model.score(X_train, y_train)"
   ]
  },
  {
   "cell_type": "code",
   "execution_count": 120,
   "metadata": {},
   "outputs": [
    {
     "data": {
      "text/plain": [
       "0.9311475409836065"
      ]
     },
     "execution_count": 120,
     "metadata": {},
     "output_type": "execute_result"
    }
   ],
   "source": [
    "gs_cvec_lr_model.score(X_test, y_test)"
   ]
  },
  {
   "cell_type": "code",
   "execution_count": 121,
   "metadata": {},
   "outputs": [
    {
     "data": {
      "text/plain": [
       "{'tvec__min_df': 1, 'tvec__ngram_range': (1, 2)}"
      ]
     },
     "execution_count": 121,
     "metadata": {},
     "output_type": "execute_result"
    }
   ],
   "source": [
    "pipe_tvec_lr = Pipeline([(\"tvec\",  TfidfVectorizer()),\n",
    "                          ('ss', StandardScaler(with_mean=False)),\n",
    "                         (\"lr\", LogisticRegression(max_iter = 2000))])\n",
    "pipe_tvec_lr_params = {'tvec__min_df': [1,2,3],\n",
    "                       \"tvec__ngram_range\": [(1,1),(1,2)]\n",
    "                       }\n",
    "gs_tvec_lr = GridSearchCV(pipe_tvec_lr,\n",
    "                          param_grid = pipe_tvec_lr_params,\n",
    "                          cv = 5)\n",
    "gs_tvec_lr.fit(X_train, y_train)\n",
    "gs_tvec_lr_model = gs_tvec_lr.best_estimator_\n",
    "gs_tvec_lr.best_params_"
   ]
  },
  {
   "cell_type": "code",
   "execution_count": 122,
   "metadata": {},
   "outputs": [
    {
     "data": {
      "text/plain": [
       "0.8944508581543907"
      ]
     },
     "execution_count": 122,
     "metadata": {},
     "output_type": "execute_result"
    }
   ],
   "source": [
    "gs_tvec_lr.best_score_"
   ]
  },
  {
   "cell_type": "code",
   "execution_count": 123,
   "metadata": {},
   "outputs": [
    {
     "data": {
      "text/plain": [
       "0.9995309568480301"
      ]
     },
     "execution_count": 123,
     "metadata": {},
     "output_type": "execute_result"
    }
   ],
   "source": [
    "gs_tvec_lr_model.score(X_train, y_train)"
   ]
  },
  {
   "cell_type": "code",
   "execution_count": 124,
   "metadata": {},
   "outputs": [
    {
     "data": {
      "text/plain": [
       "0.912568306010929"
      ]
     },
     "execution_count": 124,
     "metadata": {},
     "output_type": "execute_result"
    }
   ],
   "source": [
    "gs_tvec_lr_model.score(X_test, y_test)"
   ]
  },
  {
   "cell_type": "markdown",
   "metadata": {},
   "source": [
    "### Naive Bayes - Multinomial "
   ]
  },
  {
   "cell_type": "code",
   "execution_count": 125,
   "metadata": {},
   "outputs": [
    {
     "data": {
      "text/plain": [
       "{'cvec__min_df': 1, 'cvec__ngram_range': (1, 2)}"
      ]
     },
     "execution_count": 125,
     "metadata": {},
     "output_type": "execute_result"
    }
   ],
   "source": [
    "pipe_cvec_mnb = Pipeline([(\"cvec\", CountVectorizer()),\n",
    "                          (\"ft\", FunctionTransformer(lambda x: x.todense(), accept_sparse = True)),\n",
    "                          (\"mnb\", MultinomialNB())])\n",
    "pipe_cvec_mnb_params = {'cvec__min_df': [1,2,3],\n",
    "                        \"cvec__ngram_range\": [(1,1),(1,2)],\n",
    "                        }\n",
    "gs_cvec_mnb = GridSearchCV(pipe_cvec_mnb,\n",
    "                           param_grid = pipe_cvec_mnb_params,\n",
    "                           cv = 5)\n",
    "gs_cvec_mnb.fit(X_train, y_train)\n",
    "gs_cvec_mnb_model = gs_cvec_mnb.best_estimator_\n",
    "gs_cvec_mnb.best_params_"
   ]
  },
  {
   "cell_type": "code",
   "execution_count": 126,
   "metadata": {},
   "outputs": [
    {
     "data": {
      "text/plain": [
       "0.8935140900045079"
      ]
     },
     "execution_count": 126,
     "metadata": {},
     "output_type": "execute_result"
    }
   ],
   "source": [
    "gs_cvec_mnb.best_score_"
   ]
  },
  {
   "cell_type": "code",
   "execution_count": 127,
   "metadata": {},
   "outputs": [
    {
     "data": {
      "text/plain": [
       "0.9770168855534709"
      ]
     },
     "execution_count": 127,
     "metadata": {},
     "output_type": "execute_result"
    }
   ],
   "source": [
    "gs_cvec_mnb_model.score(X_train,y_train)"
   ]
  },
  {
   "cell_type": "code",
   "execution_count": 128,
   "metadata": {},
   "outputs": [
    {
     "data": {
      "text/plain": [
       "0.9114754098360656"
      ]
     },
     "execution_count": 128,
     "metadata": {},
     "output_type": "execute_result"
    }
   ],
   "source": [
    "gs_cvec_mnb_model.score(X_test,y_test)"
   ]
  },
  {
   "cell_type": "markdown",
   "metadata": {},
   "source": [
    "### Naive Bayes - Gaussian "
   ]
  },
  {
   "cell_type": "code",
   "execution_count": 129,
   "metadata": {},
   "outputs": [
    {
     "data": {
      "text/plain": [
       "{'cvec__min_df': 2, 'cvec__ngram_range': (1, 2)}"
      ]
     },
     "execution_count": 129,
     "metadata": {},
     "output_type": "execute_result"
    }
   ],
   "source": [
    "pipe_cvec_gnb = Pipeline([(\"cvec\", CountVectorizer()),\n",
    "                          (\"ft\", FunctionTransformer(lambda x: x.todense(), accept_sparse = True)),\n",
    "                          (\"gnb\", GaussianNB())])\n",
    "pipe_cvec_gnb_params = {'cvec__min_df': [1,2,3],\n",
    "                        \"cvec__ngram_range\": [(1,1),(1,2)],\n",
    "                        }\n",
    "gs_cvec_gnb = GridSearchCV(pipe_cvec_gnb,\n",
    "                           param_grid = pipe_cvec_gnb_params,\n",
    "                           cv = 5)\n",
    "gs_cvec_gnb.fit(X_train, y_train)\n",
    "gs_cvec_gnb_model = gs_cvec_gnb.best_estimator_\n",
    "gs_cvec_gnb.best_params_"
   ]
  },
  {
   "cell_type": "code",
   "execution_count": 130,
   "metadata": {},
   "outputs": [
    {
     "data": {
      "text/plain": [
       "0.8362953678354279"
      ]
     },
     "execution_count": 130,
     "metadata": {},
     "output_type": "execute_result"
    }
   ],
   "source": [
    "gs_cvec_gnb.best_score_"
   ]
  },
  {
   "cell_type": "code",
   "execution_count": 131,
   "metadata": {},
   "outputs": [
    {
     "data": {
      "text/plain": [
       "0.9446529080675422"
      ]
     },
     "execution_count": 131,
     "metadata": {},
     "output_type": "execute_result"
    }
   ],
   "source": [
    "gs_cvec_gnb_model.score(X_train,y_train)"
   ]
  },
  {
   "cell_type": "code",
   "execution_count": 132,
   "metadata": {},
   "outputs": [
    {
     "data": {
      "text/plain": [
       "0.8568306010928962"
      ]
     },
     "execution_count": 132,
     "metadata": {},
     "output_type": "execute_result"
    }
   ],
   "source": [
    "gs_cvec_gnb_model.score(X_test,y_test)"
   ]
  },
  {
   "cell_type": "markdown",
   "metadata": {},
   "source": [
    "### Naive Bayes - Bernoulli "
   ]
  },
  {
   "cell_type": "code",
   "execution_count": 133,
   "metadata": {},
   "outputs": [
    {
     "data": {
      "text/plain": [
       "{'cvec__min_df': 2, 'cvec__ngram_range': (1, 1)}"
      ]
     },
     "execution_count": 133,
     "metadata": {},
     "output_type": "execute_result"
    }
   ],
   "source": [
    "pipe_cvec_bnb = Pipeline([(\"cvec\", CountVectorizer()),\n",
    "                          (\"ft\", FunctionTransformer(lambda x: x.todense(), accept_sparse = True)),\n",
    "                          (\"bnb\", BernoulliNB())])\n",
    "pipe_cvec_bnb_params = {'cvec__min_df': [1,2,3],\n",
    "                        \"cvec__ngram_range\": [(1,1),(1,2)],\n",
    "                        }\n",
    "gs_cvec_bnb = GridSearchCV(pipe_cvec_bnb,\n",
    "                           param_grid = pipe_cvec_bnb_params,\n",
    "                           cv = 5)\n",
    "gs_cvec_bnb.fit(X_train, y_train)\n",
    "gs_cvec_bnb_model = gs_cvec_bnb.best_estimator_\n",
    "gs_cvec_bnb.best_params_"
   ]
  },
  {
   "cell_type": "code",
   "execution_count": 134,
   "metadata": {},
   "outputs": [
    {
     "data": {
      "text/plain": [
       "0.9169596815867885"
      ]
     },
     "execution_count": 134,
     "metadata": {},
     "output_type": "execute_result"
    }
   ],
   "source": [
    "gs_cvec_bnb.best_score_"
   ]
  },
  {
   "cell_type": "code",
   "execution_count": 135,
   "metadata": {},
   "outputs": [
    {
     "data": {
      "text/plain": [
       "0.9460600375234521"
      ]
     },
     "execution_count": 135,
     "metadata": {},
     "output_type": "execute_result"
    }
   ],
   "source": [
    "gs_cvec_bnb_model.score(X_train,y_train)"
   ]
  },
  {
   "cell_type": "code",
   "execution_count": 136,
   "metadata": {},
   "outputs": [
    {
     "data": {
      "text/plain": [
       "0.9245901639344263"
      ]
     },
     "execution_count": 136,
     "metadata": {},
     "output_type": "execute_result"
    }
   ],
   "source": [
    "gs_cvec_bnb_model.score(X_test,y_test)"
   ]
  },
  {
   "cell_type": "markdown",
   "metadata": {},
   "source": [
    "### Decision Tree Classifier"
   ]
  },
  {
   "cell_type": "code",
   "execution_count": 137,
   "metadata": {},
   "outputs": [
    {
     "data": {
      "text/plain": [
       "{'bag__base_estimator__max_depth': 40,\n",
       " 'bag__base_estimator__min_samples_leaf': 5,\n",
       " 'bag__base_estimator__min_samples_split': 40,\n",
       " 'bag__max_features': 0.4,\n",
       " 'bag__max_samples': 0.5,\n",
       " 'bag__n_estimators': 200,\n",
       " 'cvec__min_df': 1,\n",
       " 'cvec__ngram_range': (1, 2)}"
      ]
     },
     "execution_count": 137,
     "metadata": {},
     "output_type": "execute_result"
    }
   ],
   "source": [
    "pipe_cvec_dt_bag = Pipeline([(\"cvec\", CountVectorizer()),\n",
    "                             (\"ft\", FunctionTransformer(lambda x: x.todense(), accept_sparse = True)),\n",
    "                             (\"bag\", BaggingClassifier(base_estimator = DecisionTreeClassifier()))])\n",
    "pipe_cvec_dt_bag_params = {\"bag__base_estimator__max_depth\": [40],\n",
    "                           \"bag__base_estimator__min_samples_leaf\": [5],\n",
    "                           \"bag__base_estimator__min_samples_split\": [40],\n",
    "                           'cvec__min_df': [1,2,3],\n",
    "                           'cvec__ngram_range': [(1, 1),(1,2)],\n",
    "                           \"bag__n_estimators\": [200],\n",
    "                           \"bag__max_samples\": [.5],\n",
    "                           \"bag__max_features\": [.4]}\n",
    "gs_cvec_dt_bag = GridSearchCV(pipe_cvec_dt_bag,\n",
    "                              param_grid = pipe_cvec_dt_bag_params,\n",
    "                              cv = 5)\n",
    "gs_cvec_dt_bag.fit(X_train, y_train)\n",
    "gs_cvec_dt_bag_model = gs_cvec_dt_bag.best_estimator_\n",
    "gs_cvec_dt_bag.best_params_"
   ]
  },
  {
   "cell_type": "code",
   "execution_count": 138,
   "metadata": {},
   "outputs": [
    {
     "data": {
      "text/plain": [
       "0.9235313520467064"
      ]
     },
     "execution_count": 138,
     "metadata": {},
     "output_type": "execute_result"
    }
   ],
   "source": [
    "gs_cvec_dt_bag.best_score_"
   ]
  },
  {
   "cell_type": "code",
   "execution_count": 139,
   "metadata": {},
   "outputs": [
    {
     "data": {
      "text/plain": [
       "0.9343339587242027"
      ]
     },
     "execution_count": 139,
     "metadata": {},
     "output_type": "execute_result"
    }
   ],
   "source": [
    "gs_cvec_dt_bag_model.score(X_train, y_train)"
   ]
  },
  {
   "cell_type": "code",
   "execution_count": 140,
   "metadata": {},
   "outputs": [
    {
     "data": {
      "text/plain": [
       "0.9431693989071038"
      ]
     },
     "execution_count": 140,
     "metadata": {},
     "output_type": "execute_result"
    }
   ],
   "source": [
    "gs_cvec_dt_bag_model.score(X_test, y_test)"
   ]
  },
  {
   "cell_type": "markdown",
   "metadata": {},
   "source": [
    "### Random Forest "
   ]
  },
  {
   "cell_type": "code",
   "execution_count": 153,
   "metadata": {},
   "outputs": [
    {
     "data": {
      "text/plain": [
       "{'cvec__min_df': 1,\n",
       " 'cvec__ngram_range': (1, 1),\n",
       " 'rf__max_depth': None,\n",
       " 'rf__n_estimators': 70}"
      ]
     },
     "execution_count": 153,
     "metadata": {},
     "output_type": "execute_result"
    }
   ],
   "source": [
    "pipe_cvec_rf = Pipeline([(\"cvec\", CountVectorizer()),\n",
    "                         (\"ft\", FunctionTransformer(lambda x: x.todense(), accept_sparse = True)),\n",
    "                         (\"rf\", RandomForestClassifier())])\n",
    "pipe_cvec_rf_params = {'cvec__min_df': [1,2,3],\n",
    "                       'cvec__ngram_range': [(1, 1),(1,2)],\n",
    "                       \"rf__n_estimators\": [70],\n",
    "                       \"rf__max_depth\": [None]}\n",
    "gs_cvec_rf = GridSearchCV(pipe_cvec_rf,\n",
    "                          param_grid = pipe_cvec_rf_params,\n",
    "                          cv = 5)\n",
    "gs_cvec_rf.fit(X_train, y_train)\n",
    "gs_cvec_rf_model = gs_cvec_rf.best_estimator_\n",
    "gs_cvec_rf.best_params_"
   ]
  },
  {
   "cell_type": "code",
   "execution_count": 154,
   "metadata": {},
   "outputs": [
    {
     "data": {
      "text/plain": [
       "0.9268111400644303"
      ]
     },
     "execution_count": 154,
     "metadata": {},
     "output_type": "execute_result"
    }
   ],
   "source": [
    "gs_cvec_rf.best_score_"
   ]
  },
  {
   "cell_type": "code",
   "execution_count": 155,
   "metadata": {},
   "outputs": [
    {
     "data": {
      "text/plain": [
       "0.9995309568480301"
      ]
     },
     "execution_count": 155,
     "metadata": {},
     "output_type": "execute_result"
    }
   ],
   "source": [
    "gs_cvec_rf_model.score(X_train,y_train)"
   ]
  },
  {
   "cell_type": "code",
   "execution_count": 156,
   "metadata": {},
   "outputs": [
    {
     "data": {
      "text/plain": [
       "0.9453551912568307"
      ]
     },
     "execution_count": 156,
     "metadata": {},
     "output_type": "execute_result"
    }
   ],
   "source": [
    "gs_cvec_rf_model.score(X_test,y_test)"
   ]
  },
  {
   "cell_type": "markdown",
   "metadata": {},
   "source": [
    "### Extra Trees Classifier"
   ]
  },
  {
   "cell_type": "code",
   "execution_count": 161,
   "metadata": {},
   "outputs": [
    {
     "data": {
      "text/plain": [
       "{'cvec__min_df': 1,\n",
       " 'cvec__ngram_range': (1, 2),\n",
       " 'et__max_depth': None,\n",
       " 'et__n_estimators': 51}"
      ]
     },
     "execution_count": 161,
     "metadata": {},
     "output_type": "execute_result"
    }
   ],
   "source": [
    "pipe_cvec_et = Pipeline([(\"cvec\", CountVectorizer()),\n",
    "                         (\"ft\", FunctionTransformer(lambda x: x.todense(), accept_sparse = True)),\n",
    "                         (\"et\", ExtraTreesClassifier())])\n",
    "pipe_cvec_et_params = {'cvec__min_df': [1,2,3],\n",
    "                       'cvec__ngram_range': [(1, 1),(1,2)],\n",
    "                       \"et__n_estimators\": [51],\n",
    "                       \"et__max_depth\": [None]}\n",
    "gs_cvec_et = GridSearchCV(pipe_cvec_et,\n",
    "                          param_grid = pipe_cvec_et_params,\n",
    "                          cv = 5)\n",
    "gs_cvec_et.fit(X_train, y_train)\n",
    "gs_cvec_et_model = gs_cvec_et.best_estimator_\n",
    "gs_cvec_et.best_params_"
   ]
  },
  {
   "cell_type": "code",
   "execution_count": 162,
   "metadata": {},
   "outputs": [
    {
     "data": {
      "text/plain": [
       "0.9221196028630801"
      ]
     },
     "execution_count": 162,
     "metadata": {},
     "output_type": "execute_result"
    }
   ],
   "source": [
    "gs_cvec_et.best_score_"
   ]
  },
  {
   "cell_type": "code",
   "execution_count": 163,
   "metadata": {},
   "outputs": [
    {
     "data": {
      "text/plain": [
       "0.9995309568480301"
      ]
     },
     "execution_count": 163,
     "metadata": {},
     "output_type": "execute_result"
    }
   ],
   "source": [
    "gs_cvec_et_model.score(X_train,y_train)"
   ]
  },
  {
   "cell_type": "code",
   "execution_count": 164,
   "metadata": {},
   "outputs": [
    {
     "data": {
      "text/plain": [
       "0.9486338797814208"
      ]
     },
     "execution_count": 164,
     "metadata": {},
     "output_type": "execute_result"
    }
   ],
   "source": [
    "gs_cvec_et_model.score(X_test,y_test)"
   ]
  },
  {
   "cell_type": "markdown",
   "metadata": {},
   "source": [
    "## TFIDF Vectorizer"
   ]
  },
  {
   "cell_type": "markdown",
   "metadata": {},
   "source": [
    "### Naive Bayes - Multinomial "
   ]
  },
  {
   "cell_type": "code",
   "execution_count": 166,
   "metadata": {},
   "outputs": [
    {
     "data": {
      "text/plain": [
       "{'tvec__min_df': 1, 'tvec__ngram_range': (1, 2)}"
      ]
     },
     "execution_count": 166,
     "metadata": {},
     "output_type": "execute_result"
    }
   ],
   "source": [
    "pipe_tvec_mnb = Pipeline([(\"tvec\",TfidfVectorizer()),\n",
    "                          (\"ft\", FunctionTransformer(lambda x: x.todense(), accept_sparse = True)),\n",
    "                          (\"mnb\", MultinomialNB())])\n",
    "pipe_tvec_mnb_params = {'tvec__min_df': [1,2,3],\n",
    "                        \"tvec__ngram_range\": [(1,1),(1,2)],\n",
    "                        }\n",
    "gs_tvec_mnb = GridSearchCV(pipe_tvec_mnb,\n",
    "                           param_grid = pipe_tvec_mnb_params,\n",
    "                           cv = 5)\n",
    "gs_tvec_mnb.fit(X_train, y_train)\n",
    "gs_tvec_mnb_model = gs_tvec_mnb.best_estimator_\n",
    "gs_tvec_mnb.best_params_"
   ]
  },
  {
   "cell_type": "code",
   "execution_count": 167,
   "metadata": {},
   "outputs": [
    {
     "data": {
      "text/plain": [
       "0.8874163010851996"
      ]
     },
     "execution_count": 167,
     "metadata": {},
     "output_type": "execute_result"
    }
   ],
   "source": [
    "gs_tvec_mnb.best_score_"
   ]
  },
  {
   "cell_type": "code",
   "execution_count": 168,
   "metadata": {},
   "outputs": [
    {
     "data": {
      "text/plain": [
       "0.9821763602251408"
      ]
     },
     "execution_count": 168,
     "metadata": {},
     "output_type": "execute_result"
    }
   ],
   "source": [
    "gs_tvec_mnb_model.score(X_train,y_train)"
   ]
  },
  {
   "cell_type": "code",
   "execution_count": 169,
   "metadata": {},
   "outputs": [
    {
     "data": {
      "text/plain": [
       "0.8939890710382513"
      ]
     },
     "execution_count": 169,
     "metadata": {},
     "output_type": "execute_result"
    }
   ],
   "source": [
    "gs_tvec_mnb_model.score(X_test,y_test)"
   ]
  },
  {
   "cell_type": "markdown",
   "metadata": {},
   "source": [
    "### Naive Bayes - Gaussian"
   ]
  },
  {
   "cell_type": "code",
   "execution_count": 171,
   "metadata": {},
   "outputs": [
    {
     "data": {
      "text/plain": [
       "{'tvec__min_df': 2, 'tvec__ngram_range': (1, 2)}"
      ]
     },
     "execution_count": 171,
     "metadata": {},
     "output_type": "execute_result"
    }
   ],
   "source": [
    "pipe_tvec_gnb = Pipeline([(\"tvec\", TfidfVectorizer()),\n",
    "                          (\"ft\", FunctionTransformer(lambda x: x.todense(), accept_sparse = True)),\n",
    "                          (\"gnb\", GaussianNB())])\n",
    "pipe_tvec_gnb_params = {'tvec__min_df': [1,2,3],\n",
    "                        \"tvec__ngram_range\": [(1,1),(1,2)],\n",
    "                        }\n",
    "gs_tvec_gnb = GridSearchCV(pipe_tvec_gnb,\n",
    "                           param_grid = pipe_tvec_gnb_params,\n",
    "                           cv = 5)\n",
    "gs_tvec_gnb.fit(X_train, y_train)\n",
    "gs_tvec_gnb_model = gs_tvec_gnb.best_estimator_\n",
    "gs_tvec_gnb.best_params_"
   ]
  },
  {
   "cell_type": "code",
   "execution_count": 172,
   "metadata": {},
   "outputs": [
    {
     "data": {
      "text/plain": [
       "0.8433343228771537"
      ]
     },
     "execution_count": 172,
     "metadata": {},
     "output_type": "execute_result"
    }
   ],
   "source": [
    "gs_tvec_gnb.best_score_"
   ]
  },
  {
   "cell_type": "code",
   "execution_count": 173,
   "metadata": {},
   "outputs": [
    {
     "data": {
      "text/plain": [
       "0.9582551594746717"
      ]
     },
     "execution_count": 173,
     "metadata": {},
     "output_type": "execute_result"
    }
   ],
   "source": [
    "gs_tvec_gnb_model.score(X_train,y_train)"
   ]
  },
  {
   "cell_type": "code",
   "execution_count": 174,
   "metadata": {},
   "outputs": [
    {
     "data": {
      "text/plain": [
       "0.8732240437158469"
      ]
     },
     "execution_count": 174,
     "metadata": {},
     "output_type": "execute_result"
    }
   ],
   "source": [
    "gs_tvec_gnb_model.score(X_test,y_test)"
   ]
  },
  {
   "cell_type": "markdown",
   "metadata": {},
   "source": [
    "### Naive Bayes - Bernoulli"
   ]
  },
  {
   "cell_type": "code",
   "execution_count": null,
   "metadata": {},
   "outputs": [],
   "source": [
    "pipe_tvec_bnb = Pipeline([(\"tvec\", TfidfVectorizer()),\n",
    "                          (\"ft\", FunctionTransformer(lambda x: x.todense(), accept_sparse = True)),\n",
    "                          (\"bnb\", BernoulliNB())])\n",
    "pipe_tvec_bnb_params = {'tvec__min_df': [1,2,3],\n",
    "                        \"tvec__ngram_range\": [(1,1),(1,2)],\n",
    "                        }\n",
    "gs_tvec_bnb = GridSearchCV(pipe_tvec_bnb,\n",
    "                           param_grid = pipe_tvec_bnb_params,\n",
    "                           cv = 5)\n",
    "gs_tvec_bnb.fit(X_train, y_train)\n",
    "gs_tvec_bnb_model = gs_tvec_bnb.best_estimator_\n",
    "gs_tvec_bnb.best_params_"
   ]
  },
  {
   "cell_type": "code",
   "execution_count": 177,
   "metadata": {},
   "outputs": [
    {
     "data": {
      "text/plain": [
       "0.9169596815867885"
      ]
     },
     "execution_count": 177,
     "metadata": {},
     "output_type": "execute_result"
    }
   ],
   "source": [
    "gs_tvec_bnb.best_score_"
   ]
  },
  {
   "cell_type": "code",
   "execution_count": 178,
   "metadata": {},
   "outputs": [
    {
     "data": {
      "text/plain": [
       "0.9460600375234521"
      ]
     },
     "execution_count": 178,
     "metadata": {},
     "output_type": "execute_result"
    }
   ],
   "source": [
    "gs_tvec_bnb_model.score(X_train,y_train)"
   ]
  },
  {
   "cell_type": "code",
   "execution_count": 179,
   "metadata": {},
   "outputs": [
    {
     "data": {
      "text/plain": [
       "0.9245901639344263"
      ]
     },
     "execution_count": 179,
     "metadata": {},
     "output_type": "execute_result"
    }
   ],
   "source": [
    "gs_tvec_bnb_model.score(X_test,y_test)"
   ]
  },
  {
   "cell_type": "markdown",
   "metadata": {},
   "source": [
    "### Decision Tree Classifier"
   ]
  },
  {
   "cell_type": "code",
   "execution_count": 180,
   "metadata": {},
   "outputs": [
    {
     "data": {
      "text/plain": [
       "{'bag__base_estimator__max_depth': 40,\n",
       " 'bag__base_estimator__min_samples_leaf': 5,\n",
       " 'bag__base_estimator__min_samples_split': 40,\n",
       " 'bag__max_features': 0.4,\n",
       " 'bag__max_samples': 0.5,\n",
       " 'bag__n_estimators': 200,\n",
       " 'tvec__min_df': 1,\n",
       " 'tvec__ngram_range': (1, 1)}"
      ]
     },
     "execution_count": 180,
     "metadata": {},
     "output_type": "execute_result"
    }
   ],
   "source": [
    "pipe_tvec_dt_bag = Pipeline([(\"tvec\", TfidfVectorizer()),\n",
    "                             (\"ft\", FunctionTransformer(lambda x: x.todense(), accept_sparse = True)),\n",
    "                             (\"bag\", BaggingClassifier(base_estimator = DecisionTreeClassifier()))])\n",
    "pipe_tvec_dt_bag_params = {\"bag__base_estimator__max_depth\": [40],\n",
    "                           \"bag__base_estimator__min_samples_leaf\": [5],\n",
    "                           \"bag__base_estimator__min_samples_split\": [40],\n",
    "                           'tvec__min_df': [1,2,3],\n",
    "                           'tvec__ngram_range': [(1, 1),(1,2)],\n",
    "                           \"bag__n_estimators\": [200],\n",
    "                           \"bag__max_samples\": [.5],\n",
    "                           \"bag__max_features\": [.4]}\n",
    "gs_tvec_dt_bag = GridSearchCV(pipe_tvec_dt_bag,\n",
    "                              param_grid = pipe_tvec_dt_bag_params,\n",
    "                              cv = 5)\n",
    "gs_tvec_dt_bag.fit(X_train, y_train)\n",
    "gs_tvec_dt_bag_model = gs_tvec_dt_bag.best_estimator_\n",
    "gs_tvec_dt_bag.best_params_"
   ]
  },
  {
   "cell_type": "code",
   "execution_count": 181,
   "metadata": {},
   "outputs": [
    {
     "data": {
      "text/plain": [
       "0.9244670207034558"
      ]
     },
     "execution_count": 181,
     "metadata": {},
     "output_type": "execute_result"
    }
   ],
   "source": [
    "gs_tvec_dt_bag.best_score_"
   ]
  },
  {
   "cell_type": "code",
   "execution_count": 182,
   "metadata": {},
   "outputs": [
    {
     "data": {
      "text/plain": [
       "0.9376172607879925"
      ]
     },
     "execution_count": 182,
     "metadata": {},
     "output_type": "execute_result"
    }
   ],
   "source": [
    "gs_tvec_dt_bag_model.score(X_train, y_train)"
   ]
  },
  {
   "cell_type": "code",
   "execution_count": 183,
   "metadata": {},
   "outputs": [
    {
     "data": {
      "text/plain": [
       "0.9398907103825137"
      ]
     },
     "execution_count": 183,
     "metadata": {},
     "output_type": "execute_result"
    }
   ],
   "source": [
    "gs_tvec_dt_bag_model.score(X_test, y_test)"
   ]
  },
  {
   "cell_type": "markdown",
   "metadata": {},
   "source": [
    "### Random Forest"
   ]
  },
  {
   "cell_type": "code",
   "execution_count": 184,
   "metadata": {},
   "outputs": [
    {
     "data": {
      "text/plain": [
       "{'rf__max_depth': None,\n",
       " 'rf__n_estimators': 70,\n",
       " 'tvec__min_df': 3,\n",
       " 'tvec__ngram_range': (1, 2)}"
      ]
     },
     "execution_count": 184,
     "metadata": {},
     "output_type": "execute_result"
    }
   ],
   "source": [
    "pipe_tvec_rf = Pipeline([(\"tvec\", TfidfVectorizer()),\n",
    "                         (\"ft\", FunctionTransformer(lambda x: x.todense(), accept_sparse = True)),\n",
    "                         (\"rf\", RandomForestClassifier())])\n",
    "pipe_tvec_rf_params = {'tvec__min_df': [1,2,3],\n",
    "                       'tvec__ngram_range': [(1, 1),(1,2)],\n",
    "                       \"rf__n_estimators\": [70],\n",
    "                       \"rf__max_depth\": [None]}\n",
    "gs_tvec_rf = GridSearchCV(pipe_tvec_rf,\n",
    "                          param_grid = pipe_tvec_rf_params,\n",
    "                          cv = 5)\n",
    "gs_tvec_rf.fit(X_train, y_train)\n",
    "gs_tvec_rf_model = gs_tvec_rf.best_estimator_\n",
    "gs_tvec_rf.best_params_"
   ]
  },
  {
   "cell_type": "code",
   "execution_count": 196,
   "metadata": {},
   "outputs": [
    {
     "data": {
      "text/plain": [
       "0.9296258424866137"
      ]
     },
     "execution_count": 196,
     "metadata": {},
     "output_type": "execute_result"
    }
   ],
   "source": [
    "gs_tvec_rf.best_score_"
   ]
  },
  {
   "cell_type": "code",
   "execution_count": 186,
   "metadata": {},
   "outputs": [
    {
     "data": {
      "text/plain": [
       "0.9985928705440901"
      ]
     },
     "execution_count": 186,
     "metadata": {},
     "output_type": "execute_result"
    }
   ],
   "source": [
    "gs_tvec_rf_model.score(X_train, y_train)"
   ]
  },
  {
   "cell_type": "code",
   "execution_count": 187,
   "metadata": {},
   "outputs": [
    {
     "data": {
      "text/plain": [
       "0.9431693989071038"
      ]
     },
     "execution_count": 187,
     "metadata": {},
     "output_type": "execute_result"
    }
   ],
   "source": [
    "gs_tvec_rf_model.score(X_test, y_test)"
   ]
  },
  {
   "cell_type": "markdown",
   "metadata": {},
   "source": [
    "### Extra Trees Classifier"
   ]
  },
  {
   "cell_type": "code",
   "execution_count": 192,
   "metadata": {},
   "outputs": [
    {
     "data": {
      "text/plain": [
       "{'et__max_depth': None,\n",
       " 'et__n_estimators': 51,\n",
       " 'tvec__min_df': 2,\n",
       " 'tvec__ngram_range': (1, 1)}"
      ]
     },
     "execution_count": 192,
     "metadata": {},
     "output_type": "execute_result"
    }
   ],
   "source": [
    "pipe_tvec_et = Pipeline([(\"tvec\", TfidfVectorizer()),\n",
    "                         (\"ft\", FunctionTransformer(lambda x: x.todense(), accept_sparse = True)),\n",
    "                         (\"et\", ExtraTreesClassifier())])\n",
    "pipe_tvec_et_params = {'tvec__min_df': [1,2,3],\n",
    "                       'tvec__ngram_range': [(1, 1),(1,2)],\n",
    "                       \"et__n_estimators\": [51],\n",
    "                       \"et__max_depth\": [None]}\n",
    "gs_tvec_et = GridSearchCV(pipe_tvec_et,\n",
    "                          param_grid = pipe_tvec_et_params,\n",
    "                          cv = 5)\n",
    "gs_tvec_et.fit(X_train, y_train)\n",
    "gs_tvec_et_model = gs_tvec_et.best_estimator_\n",
    "gs_tvec_et.best_params_"
   ]
  },
  {
   "cell_type": "code",
   "execution_count": 193,
   "metadata": {},
   "outputs": [
    {
     "data": {
      "text/plain": [
       "0.9193114973996988"
      ]
     },
     "execution_count": 193,
     "metadata": {},
     "output_type": "execute_result"
    }
   ],
   "source": [
    "gs_tvec_et.best_score_"
   ]
  },
  {
   "cell_type": "code",
   "execution_count": 194,
   "metadata": {},
   "outputs": [
    {
     "data": {
      "text/plain": [
       "0.9985928705440901"
      ]
     },
     "execution_count": 194,
     "metadata": {},
     "output_type": "execute_result"
    }
   ],
   "source": [
    "gs_tvec_et_model.score(X_train, y_train)"
   ]
  },
  {
   "cell_type": "code",
   "execution_count": 195,
   "metadata": {},
   "outputs": [
    {
     "data": {
      "text/plain": [
       "0.9377049180327869"
      ]
     },
     "execution_count": 195,
     "metadata": {},
     "output_type": "execute_result"
    }
   ],
   "source": [
    "gs_tvec_et_model.score(X_test, y_test)"
   ]
  },
  {
   "cell_type": "code",
   "execution_count": null,
   "metadata": {},
   "outputs": [],
   "source": []
  },
  {
   "cell_type": "markdown",
   "metadata": {},
   "source": [
    "### Score table"
   ]
  },
  {
   "cell_type": "code",
   "execution_count": 197,
   "metadata": {},
   "outputs": [],
   "source": [
    "scores=pd.DataFrame()"
   ]
  },
  {
   "cell_type": "code",
   "execution_count": 199,
   "metadata": {},
   "outputs": [],
   "source": [
    "scores['Model Type']=['CountVectorization-LR','CountVectorization-MNB','CountVectorization-BNB','CountVectorization-GNB','CountVectorization-DecisionTree,Bag','CountVectorization-RandomForest','CountVectorization-ExtraTrees','TFIDFVectorization-LR','TFIDFVectorization-MNB','TFIDFVectorization-BNB','TFIDFVectorization-GNB','TFIDFVectorization-DecisionTree,Bag','TFIDFVectorization-RandomForest','TFIDFVectorization-ExtraTrees']\n",
    "scores['Train Accuracy']=[gs_cvec_lr_model.score(X_train, y_train),gs_cvec_mnb_model.score(X_train,y_train),gs_cvec_gnb_model.score(X_train,y_train),gs_cvec_bnb_model.score(X_train,y_train),gs_cvec_dt_bag_model.score(X_train, y_train),gs_cvec_rf_model.score(X_train,y_train),gs_cvec_et_model.score(X_train,y_train),gs_tvec_lr_model.score(X_train, y_train),gs_tvec_mnb_model.score(X_train,y_train),gs_tvec_gnb_model.score(X_train,y_train),gs_tvec_bnb_model.score(X_train,y_train),gs_tvec_dt_bag_model.score(X_train, y_train),gs_tvec_rf_model.score(X_train,y_train),gs_tvec_et_model.score(X_train,y_train)]\n",
    "scores['Test Accuracy']=[gs_cvec_lr_model.score(X_test, y_test),gs_cvec_mnb_model.score(X_test, y_test),gs_cvec_gnb_model.score(X_test, y_test),gs_cvec_bnb_model.score(X_test, y_test),gs_cvec_dt_bag_model.score(X_test, y_test),gs_cvec_rf_model.score(X_test, y_test),gs_cvec_et_model.score(X_test, y_test),gs_tvec_lr_model.score(X_test, y_test),gs_tvec_mnb_model.score(X_test, y_test),gs_tvec_gnb_model.score(X_test, y_test),gs_tvec_bnb_model.score(X_test, y_test),gs_tvec_dt_bag_model.score(X_test, y_test),gs_tvec_rf_model.score(X_test,y_test),gs_tvec_et_model.score(X_test,y_test)]\n",
    "scores['Accuracy Difference']=scores['Train Accuracy']-scores['Test Accuracy']"
   ]
  },
  {
   "cell_type": "code",
   "execution_count": 201,
   "metadata": {},
   "outputs": [
    {
     "data": {
      "text/html": [
       "<div>\n",
       "<style scoped>\n",
       "    .dataframe tbody tr th:only-of-type {\n",
       "        vertical-align: middle;\n",
       "    }\n",
       "\n",
       "    .dataframe tbody tr th {\n",
       "        vertical-align: top;\n",
       "    }\n",
       "\n",
       "    .dataframe thead th {\n",
       "        text-align: right;\n",
       "    }\n",
       "</style>\n",
       "<table border=\"1\" class=\"dataframe\">\n",
       "  <thead>\n",
       "    <tr style=\"text-align: right;\">\n",
       "      <th></th>\n",
       "      <th>Model Type</th>\n",
       "      <th>Train Accuracy</th>\n",
       "      <th>Test Accuracy</th>\n",
       "      <th>Accuracy Difference</th>\n",
       "    </tr>\n",
       "  </thead>\n",
       "  <tbody>\n",
       "    <tr>\n",
       "      <th>4</th>\n",
       "      <td>CountVectorization-DecisionTree,Bag</td>\n",
       "      <td>0.934334</td>\n",
       "      <td>0.943169</td>\n",
       "      <td>-0.008835</td>\n",
       "    </tr>\n",
       "    <tr>\n",
       "      <th>11</th>\n",
       "      <td>TFIDFVectorization-DecisionTree,Bag</td>\n",
       "      <td>0.937617</td>\n",
       "      <td>0.939891</td>\n",
       "      <td>-0.002273</td>\n",
       "    </tr>\n",
       "    <tr>\n",
       "      <th>3</th>\n",
       "      <td>CountVectorization-GNB</td>\n",
       "      <td>0.946060</td>\n",
       "      <td>0.924590</td>\n",
       "      <td>0.021470</td>\n",
       "    </tr>\n",
       "    <tr>\n",
       "      <th>10</th>\n",
       "      <td>TFIDFVectorization-GNB</td>\n",
       "      <td>0.946060</td>\n",
       "      <td>0.924590</td>\n",
       "      <td>0.021470</td>\n",
       "    </tr>\n",
       "    <tr>\n",
       "      <th>6</th>\n",
       "      <td>CountVectorization-ExtraTrees</td>\n",
       "      <td>0.999531</td>\n",
       "      <td>0.948634</td>\n",
       "      <td>0.050897</td>\n",
       "    </tr>\n",
       "    <tr>\n",
       "      <th>5</th>\n",
       "      <td>CountVectorization-RandomForest</td>\n",
       "      <td>0.999531</td>\n",
       "      <td>0.945355</td>\n",
       "      <td>0.054176</td>\n",
       "    </tr>\n",
       "    <tr>\n",
       "      <th>12</th>\n",
       "      <td>TFIDFVectorization-RandomForest</td>\n",
       "      <td>0.998593</td>\n",
       "      <td>0.943169</td>\n",
       "      <td>0.055423</td>\n",
       "    </tr>\n",
       "    <tr>\n",
       "      <th>13</th>\n",
       "      <td>TFIDFVectorization-ExtraTrees</td>\n",
       "      <td>0.998593</td>\n",
       "      <td>0.937705</td>\n",
       "      <td>0.060888</td>\n",
       "    </tr>\n",
       "    <tr>\n",
       "      <th>1</th>\n",
       "      <td>CountVectorization-MNB</td>\n",
       "      <td>0.977017</td>\n",
       "      <td>0.911475</td>\n",
       "      <td>0.065541</td>\n",
       "    </tr>\n",
       "    <tr>\n",
       "      <th>0</th>\n",
       "      <td>CountVectorization-LR</td>\n",
       "      <td>0.999531</td>\n",
       "      <td>0.931148</td>\n",
       "      <td>0.068383</td>\n",
       "    </tr>\n",
       "    <tr>\n",
       "      <th>9</th>\n",
       "      <td>TFIDFVectorization-BNB</td>\n",
       "      <td>0.958255</td>\n",
       "      <td>0.873224</td>\n",
       "      <td>0.085031</td>\n",
       "    </tr>\n",
       "    <tr>\n",
       "      <th>7</th>\n",
       "      <td>TFIDFVectorization-LR</td>\n",
       "      <td>0.999531</td>\n",
       "      <td>0.912568</td>\n",
       "      <td>0.086963</td>\n",
       "    </tr>\n",
       "    <tr>\n",
       "      <th>2</th>\n",
       "      <td>CountVectorization-BNB</td>\n",
       "      <td>0.944653</td>\n",
       "      <td>0.856831</td>\n",
       "      <td>0.087822</td>\n",
       "    </tr>\n",
       "    <tr>\n",
       "      <th>8</th>\n",
       "      <td>TFIDFVectorization-MNB</td>\n",
       "      <td>0.982176</td>\n",
       "      <td>0.893989</td>\n",
       "      <td>0.088187</td>\n",
       "    </tr>\n",
       "  </tbody>\n",
       "</table>\n",
       "</div>"
      ],
      "text/plain": [
       "                             Model Type  Train Accuracy  Test Accuracy  \\\n",
       "4   CountVectorization-DecisionTree,Bag        0.934334       0.943169   \n",
       "11  TFIDFVectorization-DecisionTree,Bag        0.937617       0.939891   \n",
       "3                CountVectorization-GNB        0.946060       0.924590   \n",
       "10               TFIDFVectorization-GNB        0.946060       0.924590   \n",
       "6         CountVectorization-ExtraTrees        0.999531       0.948634   \n",
       "5       CountVectorization-RandomForest        0.999531       0.945355   \n",
       "12      TFIDFVectorization-RandomForest        0.998593       0.943169   \n",
       "13        TFIDFVectorization-ExtraTrees        0.998593       0.937705   \n",
       "1                CountVectorization-MNB        0.977017       0.911475   \n",
       "0                 CountVectorization-LR        0.999531       0.931148   \n",
       "9                TFIDFVectorization-BNB        0.958255       0.873224   \n",
       "7                 TFIDFVectorization-LR        0.999531       0.912568   \n",
       "2                CountVectorization-BNB        0.944653       0.856831   \n",
       "8                TFIDFVectorization-MNB        0.982176       0.893989   \n",
       "\n",
       "    Accuracy Difference  \n",
       "4             -0.008835  \n",
       "11            -0.002273  \n",
       "3              0.021470  \n",
       "10             0.021470  \n",
       "6              0.050897  \n",
       "5              0.054176  \n",
       "12             0.055423  \n",
       "13             0.060888  \n",
       "1              0.065541  \n",
       "0              0.068383  \n",
       "9              0.085031  \n",
       "7              0.086963  \n",
       "2              0.087822  \n",
       "8              0.088187  "
      ]
     },
     "execution_count": 201,
     "metadata": {},
     "output_type": "execute_result"
    }
   ],
   "source": [
    "scores.sort_values(by='Accuracy Difference',ascending=True)"
   ]
  },
  {
   "cell_type": "markdown",
   "metadata": {},
   "source": [
    "### Save the best model\n",
    "From the score table above and the scores from Modeling_01.ipynb, Bagged Decision Tree using CountVectorizer is the best model. Here we will create the model using best parameters and save it for an app mapping wildfires."
   ]
  },
  {
   "cell_type": "code",
   "execution_count": 11,
   "metadata": {},
   "outputs": [],
   "source": [
    "cvec = CountVectorizer(min_df=1, ngram_range=(1, 2))\n",
    "X_train_cvec = cvec.fit_transform(X_train)\n",
    "X_test_cvec = cvec.transform(X_test)\n",
    "\n",
    "bc = BaggingClassifier(\n",
    "    n_estimators=200,\n",
    "    max_features=.4,\n",
    "    max_samples=.5,\n",
    "    base_estimator = DecisionTreeClassifier(\n",
    "        max_depth=40,\n",
    "        min_samples_leaf=5,\n",
    "        min_samples_split=40\n",
    "    )\n",
    "    \n",
    ")"
   ]
  },
  {
   "cell_type": "code",
   "execution_count": 12,
   "metadata": {},
   "outputs": [
    {
     "data": {
      "text/plain": [
       "BaggingClassifier(base_estimator=DecisionTreeClassifier(class_weight=None,\n",
       "                                                        criterion='gini',\n",
       "                                                        max_depth=40,\n",
       "                                                        max_features=None,\n",
       "                                                        max_leaf_nodes=None,\n",
       "                                                        min_impurity_decrease=0.0,\n",
       "                                                        min_impurity_split=None,\n",
       "                                                        min_samples_leaf=5,\n",
       "                                                        min_samples_split=40,\n",
       "                                                        min_weight_fraction_leaf=0.0,\n",
       "                                                        presort=False,\n",
       "                                                        random_state=None,\n",
       "                                                        splitter='best'),\n",
       "                  bootstrap=True, bootstrap_features=False, max_features=0.4,\n",
       "                  max_samples=0.5, n_estimators=200, n_jobs=None,\n",
       "                  oob_score=False, random_state=None, verbose=0,\n",
       "                  warm_start=False)"
      ]
     },
     "execution_count": 12,
     "metadata": {},
     "output_type": "execute_result"
    }
   ],
   "source": [
    "bc.fit(X_train_cvec, y_train)"
   ]
  },
  {
   "cell_type": "code",
   "execution_count": 14,
   "metadata": {},
   "outputs": [
    {
     "data": {
      "text/plain": [
       "0.9310506566604128"
      ]
     },
     "execution_count": 14,
     "metadata": {},
     "output_type": "execute_result"
    }
   ],
   "source": [
    "bc.score(X_train_cvec, y_train)"
   ]
  },
  {
   "cell_type": "code",
   "execution_count": 16,
   "metadata": {},
   "outputs": [
    {
     "data": {
      "text/plain": [
       "0.9387978142076503"
      ]
     },
     "execution_count": 16,
     "metadata": {},
     "output_type": "execute_result"
    }
   ],
   "source": [
    "bc.score(X_test_cvec, y_test)"
   ]
  },
  {
   "cell_type": "code",
   "execution_count": 17,
   "metadata": {},
   "outputs": [],
   "source": [
    "with open('../model/best_model.pickle', 'wb') as f:\n",
    "    pickle.dump(bc, f)"
   ]
  },
  {
   "cell_type": "code",
   "execution_count": 18,
   "metadata": {},
   "outputs": [],
   "source": [
    "with open('../model/vectorizer.pickle', 'wb') as f:\n",
    "    pickle.dump(cvec, f)"
   ]
  },
  {
   "cell_type": "code",
   "execution_count": null,
   "metadata": {},
   "outputs": [],
   "source": []
  }
 ],
 "metadata": {
  "kernelspec": {
   "display_name": "Python 3",
   "language": "python",
   "name": "python3"
  },
  "language_info": {
   "codemirror_mode": {
    "name": "ipython",
    "version": 3
   },
   "file_extension": ".py",
   "mimetype": "text/x-python",
   "name": "python",
   "nbconvert_exporter": "python",
   "pygments_lexer": "ipython3",
   "version": "3.7.6"
  }
 },
 "nbformat": 4,
 "nbformat_minor": 2
}
