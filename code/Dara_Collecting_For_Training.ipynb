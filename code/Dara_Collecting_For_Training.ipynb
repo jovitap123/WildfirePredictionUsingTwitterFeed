{
 "cells": [
  {
   "cell_type": "markdown",
   "metadata": {},
   "source": [
    "### For training, we need more data not relevant to wildfires. This notebook will collect the not relevant data"
   ]
  },
  {
   "cell_type": "code",
   "execution_count": 6,
   "metadata": {},
   "outputs": [],
   "source": [
    "from twitterscraper import query_tweets\n",
    "import datetime as dt\n",
    "import pandas as pd"
   ]
  },
  {
   "cell_type": "code",
   "execution_count": 23,
   "metadata": {},
   "outputs": [],
   "source": [
    "# Get tweets basing off of keywords\n",
    "def get_tweets(list_of_keywords, limit, begindate):\n",
    "    tweets_list = []\n",
    "    \n",
    "    for keyword in list_of_keywords:\n",
    "        tweets = query_tweets(keyword, limit=limit, begindate=begindate, lang='en')\n",
    "        \n",
    "        for tweet in tweets:\n",
    "            tweets_dict = {'category': 'not relevant', 'text': tweet.text, 'label': 0}\n",
    "            \n",
    "            tweets_list.append(tweets_dict)\n",
    "    \n",
    "    return tweets_list"
   ]
  },
  {
   "cell_type": "code",
   "execution_count": 24,
   "metadata": {},
   "outputs": [],
   "source": [
    "tweets_list = get_tweets(['habit', 'sweet', 'snow', 'music', 'sports', 'movies'], limit=80, begindate=dt.date(2020, 8,1))"
   ]
  },
  {
   "cell_type": "code",
   "execution_count": 30,
   "metadata": {},
   "outputs": [],
   "source": [
    "# This is for checking each tweets\n",
    "#for i in tweets_list:\n",
    "#    print(i)"
   ]
  },
  {
   "cell_type": "code",
   "execution_count": 31,
   "metadata": {},
   "outputs": [
    {
     "data": {
      "text/plain": [
       "1100"
      ]
     },
     "execution_count": 31,
     "metadata": {},
     "output_type": "execute_result"
    }
   ],
   "source": [
    "len(tweets_list)"
   ]
  },
  {
   "cell_type": "code",
   "execution_count": 32,
   "metadata": {},
   "outputs": [],
   "source": [
    "tweets_df = pd.DataFrame(tweets_list)"
   ]
  },
  {
   "cell_type": "code",
   "execution_count": 33,
   "metadata": {},
   "outputs": [
    {
     "data": {
      "text/html": [
       "<div>\n",
       "<style scoped>\n",
       "    .dataframe tbody tr th:only-of-type {\n",
       "        vertical-align: middle;\n",
       "    }\n",
       "\n",
       "    .dataframe tbody tr th {\n",
       "        vertical-align: top;\n",
       "    }\n",
       "\n",
       "    .dataframe thead th {\n",
       "        text-align: right;\n",
       "    }\n",
       "</style>\n",
       "<table border=\"1\" class=\"dataframe\">\n",
       "  <thead>\n",
       "    <tr style=\"text-align: right;\">\n",
       "      <th></th>\n",
       "      <th>category</th>\n",
       "      <th>text</th>\n",
       "      <th>label</th>\n",
       "    </tr>\n",
       "  </thead>\n",
       "  <tbody>\n",
       "    <tr>\n",
       "      <td>0</td>\n",
       "      <td>not relevant</td>\n",
       "      <td>and if you do, don't bring your stupid voting ...</td>\n",
       "      <td>0</td>\n",
       "    </tr>\n",
       "    <tr>\n",
       "      <td>1</td>\n",
       "      <td>not relevant</td>\n",
       "      <td>It’s absolutely worth it do this! I adopted th...</td>\n",
       "      <td>0</td>\n",
       "    </tr>\n",
       "    <tr>\n",
       "      <td>2</td>\n",
       "      <td>not relevant</td>\n",
       "      <td>I suppose you use this same logic to justify y...</td>\n",
       "      <td>0</td>\n",
       "    </tr>\n",
       "    <tr>\n",
       "      <td>3</td>\n",
       "      <td>not relevant</td>\n",
       "      <td>if he paying all shorty bills and Spoiling her...</td>\n",
       "      <td>0</td>\n",
       "    </tr>\n",
       "    <tr>\n",
       "      <td>4</td>\n",
       "      <td>not relevant</td>\n",
       "      <td>When doing so, they are healthier than meat ea...</td>\n",
       "      <td>0</td>\n",
       "    </tr>\n",
       "    <tr>\n",
       "      <td>...</td>\n",
       "      <td>...</td>\n",
       "      <td>...</td>\n",
       "      <td>...</td>\n",
       "    </tr>\n",
       "    <tr>\n",
       "      <td>1095</td>\n",
       "      <td>not relevant</td>\n",
       "      <td>lrt seeing that hereditary shot and unlocking ...</td>\n",
       "      <td>0</td>\n",
       "    </tr>\n",
       "    <tr>\n",
       "      <td>1096</td>\n",
       "      <td>not relevant</td>\n",
       "      <td>Apparently we’re having a movie marathon bc we...</td>\n",
       "      <td>0</td>\n",
       "    </tr>\n",
       "    <tr>\n",
       "      <td>1097</td>\n",
       "      <td>not relevant</td>\n",
       "      <td>avp really isn't that bad of a movie except fo...</td>\n",
       "      <td>0</td>\n",
       "    </tr>\n",
       "    <tr>\n",
       "      <td>1098</td>\n",
       "      <td>not relevant</td>\n",
       "      <td>Old movie posters are pure art. https://twitte...</td>\n",
       "      <td>0</td>\n",
       "    </tr>\n",
       "    <tr>\n",
       "      <td>1099</td>\n",
       "      <td>not relevant</td>\n",
       "      <td>since I might not be able to make it to the #M...</td>\n",
       "      <td>0</td>\n",
       "    </tr>\n",
       "  </tbody>\n",
       "</table>\n",
       "<p>1100 rows × 3 columns</p>\n",
       "</div>"
      ],
      "text/plain": [
       "          category                                               text  label\n",
       "0     not relevant  and if you do, don't bring your stupid voting ...      0\n",
       "1     not relevant  It’s absolutely worth it do this! I adopted th...      0\n",
       "2     not relevant  I suppose you use this same logic to justify y...      0\n",
       "3     not relevant  if he paying all shorty bills and Spoiling her...      0\n",
       "4     not relevant  When doing so, they are healthier than meat ea...      0\n",
       "...            ...                                                ...    ...\n",
       "1095  not relevant  lrt seeing that hereditary shot and unlocking ...      0\n",
       "1096  not relevant  Apparently we’re having a movie marathon bc we...      0\n",
       "1097  not relevant  avp really isn't that bad of a movie except fo...      0\n",
       "1098  not relevant  Old movie posters are pure art. https://twitte...      0\n",
       "1099  not relevant  since I might not be able to make it to the #M...      0\n",
       "\n",
       "[1100 rows x 3 columns]"
      ]
     },
     "execution_count": 33,
     "metadata": {},
     "output_type": "execute_result"
    }
   ],
   "source": [
    "tweets_df"
   ]
  },
  {
   "cell_type": "code",
   "execution_count": 35,
   "metadata": {},
   "outputs": [],
   "source": [
    "tweets_df.drop_duplicates(inplace=True)"
   ]
  },
  {
   "cell_type": "code",
   "execution_count": 36,
   "metadata": {},
   "outputs": [
    {
     "data": {
      "text/html": [
       "<div>\n",
       "<style scoped>\n",
       "    .dataframe tbody tr th:only-of-type {\n",
       "        vertical-align: middle;\n",
       "    }\n",
       "\n",
       "    .dataframe tbody tr th {\n",
       "        vertical-align: top;\n",
       "    }\n",
       "\n",
       "    .dataframe thead th {\n",
       "        text-align: right;\n",
       "    }\n",
       "</style>\n",
       "<table border=\"1\" class=\"dataframe\">\n",
       "  <thead>\n",
       "    <tr style=\"text-align: right;\">\n",
       "      <th></th>\n",
       "      <th>category</th>\n",
       "      <th>text</th>\n",
       "      <th>label</th>\n",
       "    </tr>\n",
       "  </thead>\n",
       "  <tbody>\n",
       "    <tr>\n",
       "      <td>0</td>\n",
       "      <td>not relevant</td>\n",
       "      <td>and if you do, don't bring your stupid voting ...</td>\n",
       "      <td>0</td>\n",
       "    </tr>\n",
       "    <tr>\n",
       "      <td>1</td>\n",
       "      <td>not relevant</td>\n",
       "      <td>It’s absolutely worth it do this! I adopted th...</td>\n",
       "      <td>0</td>\n",
       "    </tr>\n",
       "    <tr>\n",
       "      <td>2</td>\n",
       "      <td>not relevant</td>\n",
       "      <td>I suppose you use this same logic to justify y...</td>\n",
       "      <td>0</td>\n",
       "    </tr>\n",
       "    <tr>\n",
       "      <td>3</td>\n",
       "      <td>not relevant</td>\n",
       "      <td>if he paying all shorty bills and Spoiling her...</td>\n",
       "      <td>0</td>\n",
       "    </tr>\n",
       "    <tr>\n",
       "      <td>4</td>\n",
       "      <td>not relevant</td>\n",
       "      <td>When doing so, they are healthier than meat ea...</td>\n",
       "      <td>0</td>\n",
       "    </tr>\n",
       "    <tr>\n",
       "      <td>...</td>\n",
       "      <td>...</td>\n",
       "      <td>...</td>\n",
       "      <td>...</td>\n",
       "    </tr>\n",
       "    <tr>\n",
       "      <td>1095</td>\n",
       "      <td>not relevant</td>\n",
       "      <td>lrt seeing that hereditary shot and unlocking ...</td>\n",
       "      <td>0</td>\n",
       "    </tr>\n",
       "    <tr>\n",
       "      <td>1096</td>\n",
       "      <td>not relevant</td>\n",
       "      <td>Apparently we’re having a movie marathon bc we...</td>\n",
       "      <td>0</td>\n",
       "    </tr>\n",
       "    <tr>\n",
       "      <td>1097</td>\n",
       "      <td>not relevant</td>\n",
       "      <td>avp really isn't that bad of a movie except fo...</td>\n",
       "      <td>0</td>\n",
       "    </tr>\n",
       "    <tr>\n",
       "      <td>1098</td>\n",
       "      <td>not relevant</td>\n",
       "      <td>Old movie posters are pure art. https://twitte...</td>\n",
       "      <td>0</td>\n",
       "    </tr>\n",
       "    <tr>\n",
       "      <td>1099</td>\n",
       "      <td>not relevant</td>\n",
       "      <td>since I might not be able to make it to the #M...</td>\n",
       "      <td>0</td>\n",
       "    </tr>\n",
       "  </tbody>\n",
       "</table>\n",
       "<p>1085 rows × 3 columns</p>\n",
       "</div>"
      ],
      "text/plain": [
       "          category                                               text  label\n",
       "0     not relevant  and if you do, don't bring your stupid voting ...      0\n",
       "1     not relevant  It’s absolutely worth it do this! I adopted th...      0\n",
       "2     not relevant  I suppose you use this same logic to justify y...      0\n",
       "3     not relevant  if he paying all shorty bills and Spoiling her...      0\n",
       "4     not relevant  When doing so, they are healthier than meat ea...      0\n",
       "...            ...                                                ...    ...\n",
       "1095  not relevant  lrt seeing that hereditary shot and unlocking ...      0\n",
       "1096  not relevant  Apparently we’re having a movie marathon bc we...      0\n",
       "1097  not relevant  avp really isn't that bad of a movie except fo...      0\n",
       "1098  not relevant  Old movie posters are pure art. https://twitte...      0\n",
       "1099  not relevant  since I might not be able to make it to the #M...      0\n",
       "\n",
       "[1085 rows x 3 columns]"
      ]
     },
     "execution_count": 36,
     "metadata": {},
     "output_type": "execute_result"
    }
   ],
   "source": [
    "tweets_df"
   ]
  },
  {
   "cell_type": "code",
   "execution_count": null,
   "metadata": {},
   "outputs": [],
   "source": []
  },
  {
   "cell_type": "code",
   "execution_count": 37,
   "metadata": {},
   "outputs": [],
   "source": [
    "tweets_df.to_csv('../data/not_relevant_tweets.csv', index=False)"
   ]
  },
  {
   "cell_type": "code",
   "execution_count": null,
   "metadata": {},
   "outputs": [],
   "source": []
  }
 ],
 "metadata": {
  "kernelspec": {
   "display_name": "Python 3",
   "language": "python",
   "name": "python3"
  },
  "language_info": {
   "codemirror_mode": {
    "name": "ipython",
    "version": 3
   },
   "file_extension": ".py",
   "mimetype": "text/x-python",
   "name": "python",
   "nbconvert_exporter": "python",
   "pygments_lexer": "ipython3",
   "version": "3.7.6"
  }
 },
 "nbformat": 4,
 "nbformat_minor": 2
}
