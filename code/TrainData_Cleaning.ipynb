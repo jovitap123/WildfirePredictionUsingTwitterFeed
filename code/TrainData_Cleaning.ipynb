{
 "cells": [
  {
   "cell_type": "code",
   "execution_count": 1,
   "metadata": {},
   "outputs": [],
   "source": [
    "import pandas as pd\n",
    "from sklearn.preprocessing import OneHotEncoder\n",
    "import numpy as np\n",
    "import re\n",
    "from bs4 import BeautifulSoup\n",
    "from nltk.stem.porter import PorterStemmer\n",
    "from nltk.corpus import stopwords\n",
    "from sklearn.feature_extraction.text import CountVectorizer\n",
    "import matplotlib.pyplot as plt\n",
    "%matplotlib inline"
   ]
  },
  {
   "cell_type": "code",
   "execution_count": 2,
   "metadata": {},
   "outputs": [],
   "source": [
    "df=pd.read_csv('../data/forestfires_eyewitness_crowdflower_2000.tsv',sep = '\\t')"
   ]
  },
  {
   "cell_type": "code",
   "execution_count": 3,
   "metadata": {},
   "outputs": [
    {
     "data": {
      "text/plain": [
       "Index(['_unit_id', '_golden', '_unit_state', '_trusted_judgments',\n",
       "       '_last_judgment_at', 'please_choose_a_category_:confidence',\n",
       "       'created_at', 'id_str', 'rownames', 'please_choose_a_category_', 'text',\n",
       "       'Unnamed: 11', 'Unnamed: 12'],\n",
       "      dtype='object')"
      ]
     },
     "execution_count": 3,
     "metadata": {},
     "output_type": "execute_result"
    }
   ],
   "source": [
    "df.columns"
   ]
  },
  {
   "cell_type": "code",
   "execution_count": 4,
   "metadata": {},
   "outputs": [
    {
     "data": {
      "text/plain": [
       "array(['direct_eyewitness', 'dont_know', 'noneyewitness'], dtype=object)"
      ]
     },
     "execution_count": 4,
     "metadata": {},
     "output_type": "execute_result"
    }
   ],
   "source": [
    "df['please_choose_a_category_'].unique()"
   ]
  },
  {
   "cell_type": "code",
   "execution_count": 5,
   "metadata": {},
   "outputs": [
    {
     "data": {
      "text/html": [
       "<div>\n",
       "<style scoped>\n",
       "    .dataframe tbody tr th:only-of-type {\n",
       "        vertical-align: middle;\n",
       "    }\n",
       "\n",
       "    .dataframe tbody tr th {\n",
       "        vertical-align: top;\n",
       "    }\n",
       "\n",
       "    .dataframe thead th {\n",
       "        text-align: right;\n",
       "    }\n",
       "</style>\n",
       "<table border=\"1\" class=\"dataframe\">\n",
       "  <thead>\n",
       "    <tr style=\"text-align: right;\">\n",
       "      <th></th>\n",
       "      <th>_unit_id</th>\n",
       "      <th>_golden</th>\n",
       "      <th>_unit_state</th>\n",
       "      <th>_trusted_judgments</th>\n",
       "      <th>_last_judgment_at</th>\n",
       "      <th>please_choose_a_category_:confidence</th>\n",
       "      <th>created_at</th>\n",
       "      <th>id_str</th>\n",
       "      <th>rownames</th>\n",
       "      <th>please_choose_a_category_</th>\n",
       "      <th>text</th>\n",
       "      <th>Unnamed: 11</th>\n",
       "      <th>Unnamed: 12</th>\n",
       "    </tr>\n",
       "  </thead>\n",
       "  <tbody>\n",
       "    <tr>\n",
       "      <td>0</td>\n",
       "      <td>1830763346</td>\n",
       "      <td>False</td>\n",
       "      <td>finalized</td>\n",
       "      <td>3</td>\n",
       "      <td>7/26/2018 12:30:49</td>\n",
       "      <td>1.0000</td>\n",
       "      <td>Sat May 07 07:17:21 +0000 2016</td>\n",
       "      <td>,728846163798020096,</td>\n",
       "      <td>50034</td>\n",
       "      <td>direct_eyewitness</td>\n",
       "      <td>Damn this Canadian Wildfire got the whole city...</td>\n",
       "      <td>NaN</td>\n",
       "      <td>NaN</td>\n",
       "    </tr>\n",
       "    <tr>\n",
       "      <td>1</td>\n",
       "      <td>1830764158</td>\n",
       "      <td>False</td>\n",
       "      <td>finalized</td>\n",
       "      <td>3</td>\n",
       "      <td>7/26/2018 11:16:12</td>\n",
       "      <td>0.6493</td>\n",
       "      <td>Tue Oct 10 18:41:33 +0000 2017</td>\n",
       "      <td>,917822427903623168,</td>\n",
       "      <td>3296</td>\n",
       "      <td>direct_eyewitness</td>\n",
       "      <td>Devastating to see such widespread destruction...</td>\n",
       "      <td>NaN</td>\n",
       "      <td>NaN</td>\n",
       "    </tr>\n",
       "    <tr>\n",
       "      <td>2</td>\n",
       "      <td>1830764254</td>\n",
       "      <td>False</td>\n",
       "      <td>finalized</td>\n",
       "      <td>3</td>\n",
       "      <td>7/26/2018 11:24:49</td>\n",
       "      <td>0.6678</td>\n",
       "      <td>Tue Oct 10 19:55:29 +0000 2017</td>\n",
       "      <td>,917841031520849920,</td>\n",
       "      <td>12921</td>\n",
       "      <td>direct_eyewitness</td>\n",
       "      <td>Sonoma county is covered in heavy thick black ...</td>\n",
       "      <td>NaN</td>\n",
       "      <td>NaN</td>\n",
       "    </tr>\n",
       "    <tr>\n",
       "      <td>3</td>\n",
       "      <td>1830763975</td>\n",
       "      <td>False</td>\n",
       "      <td>finalized</td>\n",
       "      <td>3</td>\n",
       "      <td>7/26/2018 10:40:38</td>\n",
       "      <td>1.0000</td>\n",
       "      <td>Fri May 06 19:54:26 +0000 2016</td>\n",
       "      <td>,728674301222625280,</td>\n",
       "      <td>25149</td>\n",
       "      <td>direct_eyewitness</td>\n",
       "      <td>Day 6 of the wildfire, Day 4 of being evacuate...</td>\n",
       "      <td>NaN</td>\n",
       "      <td>NaN</td>\n",
       "    </tr>\n",
       "    <tr>\n",
       "      <td>4</td>\n",
       "      <td>1830764451</td>\n",
       "      <td>False</td>\n",
       "      <td>finalized</td>\n",
       "      <td>3</td>\n",
       "      <td>7/26/2018 11:28:34</td>\n",
       "      <td>0.6643</td>\n",
       "      <td>Wed Oct 11 01:44:08 +0000 2017</td>\n",
       "      <td>,917928772535336960,</td>\n",
       "      <td>31608</td>\n",
       "      <td>direct_eyewitness</td>\n",
       "      <td>I guess the smoke from the wildfires here in C...</td>\n",
       "      <td>NaN</td>\n",
       "      <td>NaN</td>\n",
       "    </tr>\n",
       "  </tbody>\n",
       "</table>\n",
       "</div>"
      ],
      "text/plain": [
       "     _unit_id  _golden _unit_state  _trusted_judgments   _last_judgment_at  \\\n",
       "0  1830763346    False   finalized                   3  7/26/2018 12:30:49   \n",
       "1  1830764158    False   finalized                   3  7/26/2018 11:16:12   \n",
       "2  1830764254    False   finalized                   3  7/26/2018 11:24:49   \n",
       "3  1830763975    False   finalized                   3  7/26/2018 10:40:38   \n",
       "4  1830764451    False   finalized                   3  7/26/2018 11:28:34   \n",
       "\n",
       "   please_choose_a_category_:confidence                      created_at  \\\n",
       "0                                1.0000  Sat May 07 07:17:21 +0000 2016   \n",
       "1                                0.6493  Tue Oct 10 18:41:33 +0000 2017   \n",
       "2                                0.6678  Tue Oct 10 19:55:29 +0000 2017   \n",
       "3                                1.0000  Fri May 06 19:54:26 +0000 2016   \n",
       "4                                0.6643  Wed Oct 11 01:44:08 +0000 2017   \n",
       "\n",
       "                 id_str  rownames please_choose_a_category_  \\\n",
       "0  ,728846163798020096,     50034         direct_eyewitness   \n",
       "1  ,917822427903623168,      3296         direct_eyewitness   \n",
       "2  ,917841031520849920,     12921         direct_eyewitness   \n",
       "3  ,728674301222625280,     25149         direct_eyewitness   \n",
       "4  ,917928772535336960,     31608         direct_eyewitness   \n",
       "\n",
       "                                                text  Unnamed: 11  Unnamed: 12  \n",
       "0  Damn this Canadian Wildfire got the whole city...          NaN          NaN  \n",
       "1  Devastating to see such widespread destruction...          NaN          NaN  \n",
       "2  Sonoma county is covered in heavy thick black ...          NaN          NaN  \n",
       "3  Day 6 of the wildfire, Day 4 of being evacuate...          NaN          NaN  \n",
       "4  I guess the smoke from the wildfires here in C...          NaN          NaN  "
      ]
     },
     "execution_count": 5,
     "metadata": {},
     "output_type": "execute_result"
    }
   ],
   "source": [
    "df.head()"
   ]
  },
  {
   "cell_type": "code",
   "execution_count": 6,
   "metadata": {},
   "outputs": [],
   "source": [
    "df['please_choose_a_category_']=df['please_choose_a_category_'].str.replace('direct_eyewitness','witness')"
   ]
  },
  {
   "cell_type": "code",
   "execution_count": 7,
   "metadata": {},
   "outputs": [],
   "source": [
    "df['please_choose_a_category_']=df['please_choose_a_category_'].str.replace('noneyewitness','witness')"
   ]
  },
  {
   "cell_type": "code",
   "execution_count": 8,
   "metadata": {},
   "outputs": [
    {
     "data": {
      "text/plain": [
       "array(['witness', 'dont_know'], dtype=object)"
      ]
     },
     "execution_count": 8,
     "metadata": {},
     "output_type": "execute_result"
    }
   ],
   "source": [
    "df['please_choose_a_category_'].unique()"
   ]
  },
  {
   "cell_type": "code",
   "execution_count": 9,
   "metadata": {},
   "outputs": [
    {
     "data": {
      "text/plain": [
       "_unit_id                                   0\n",
       "_golden                                    0\n",
       "_unit_state                                0\n",
       "_trusted_judgments                         0\n",
       "_last_judgment_at                          0\n",
       "please_choose_a_category_:confidence       0\n",
       "created_at                                 0\n",
       "id_str                                     0\n",
       "rownames                                   0\n",
       "please_choose_a_category_                  0\n",
       "text                                       0\n",
       "Unnamed: 11                             1990\n",
       "Unnamed: 12                             1998\n",
       "dtype: int64"
      ]
     },
     "execution_count": 9,
     "metadata": {},
     "output_type": "execute_result"
    }
   ],
   "source": [
    "df.isnull().sum()"
   ]
  },
  {
   "cell_type": "code",
   "execution_count": 11,
   "metadata": {},
   "outputs": [],
   "source": [
    "non_relevant_tweets=pd.read_csv('../data/not_relevant_tweets.csv')"
   ]
  },
  {
   "cell_type": "code",
   "execution_count": 12,
   "metadata": {},
   "outputs": [
    {
     "data": {
      "text/html": [
       "<div>\n",
       "<style scoped>\n",
       "    .dataframe tbody tr th:only-of-type {\n",
       "        vertical-align: middle;\n",
       "    }\n",
       "\n",
       "    .dataframe tbody tr th {\n",
       "        vertical-align: top;\n",
       "    }\n",
       "\n",
       "    .dataframe thead th {\n",
       "        text-align: right;\n",
       "    }\n",
       "</style>\n",
       "<table border=\"1\" class=\"dataframe\">\n",
       "  <thead>\n",
       "    <tr style=\"text-align: right;\">\n",
       "      <th></th>\n",
       "      <th>category</th>\n",
       "      <th>text</th>\n",
       "      <th>label</th>\n",
       "    </tr>\n",
       "  </thead>\n",
       "  <tbody>\n",
       "    <tr>\n",
       "      <td>0</td>\n",
       "      <td>not relevant</td>\n",
       "      <td>and if you do, don't bring your stupid voting ...</td>\n",
       "      <td>0</td>\n",
       "    </tr>\n",
       "    <tr>\n",
       "      <td>1</td>\n",
       "      <td>not relevant</td>\n",
       "      <td>It’s absolutely worth it do this! I adopted th...</td>\n",
       "      <td>0</td>\n",
       "    </tr>\n",
       "    <tr>\n",
       "      <td>2</td>\n",
       "      <td>not relevant</td>\n",
       "      <td>I suppose you use this same logic to justify y...</td>\n",
       "      <td>0</td>\n",
       "    </tr>\n",
       "    <tr>\n",
       "      <td>3</td>\n",
       "      <td>not relevant</td>\n",
       "      <td>if he paying all shorty bills and Spoiling her...</td>\n",
       "      <td>0</td>\n",
       "    </tr>\n",
       "    <tr>\n",
       "      <td>4</td>\n",
       "      <td>not relevant</td>\n",
       "      <td>When doing so, they are healthier than meat ea...</td>\n",
       "      <td>0</td>\n",
       "    </tr>\n",
       "    <tr>\n",
       "      <td>...</td>\n",
       "      <td>...</td>\n",
       "      <td>...</td>\n",
       "      <td>...</td>\n",
       "    </tr>\n",
       "    <tr>\n",
       "      <td>1080</td>\n",
       "      <td>not relevant</td>\n",
       "      <td>lrt seeing that hereditary shot and unlocking ...</td>\n",
       "      <td>0</td>\n",
       "    </tr>\n",
       "    <tr>\n",
       "      <td>1081</td>\n",
       "      <td>not relevant</td>\n",
       "      <td>Apparently we’re having a movie marathon bc we...</td>\n",
       "      <td>0</td>\n",
       "    </tr>\n",
       "    <tr>\n",
       "      <td>1082</td>\n",
       "      <td>not relevant</td>\n",
       "      <td>avp really isn't that bad of a movie except fo...</td>\n",
       "      <td>0</td>\n",
       "    </tr>\n",
       "    <tr>\n",
       "      <td>1083</td>\n",
       "      <td>not relevant</td>\n",
       "      <td>Old movie posters are pure art. https://twitte...</td>\n",
       "      <td>0</td>\n",
       "    </tr>\n",
       "    <tr>\n",
       "      <td>1084</td>\n",
       "      <td>not relevant</td>\n",
       "      <td>since I might not be able to make it to the #M...</td>\n",
       "      <td>0</td>\n",
       "    </tr>\n",
       "  </tbody>\n",
       "</table>\n",
       "<p>1085 rows × 3 columns</p>\n",
       "</div>"
      ],
      "text/plain": [
       "          category                                               text  label\n",
       "0     not relevant  and if you do, don't bring your stupid voting ...      0\n",
       "1     not relevant  It’s absolutely worth it do this! I adopted th...      0\n",
       "2     not relevant  I suppose you use this same logic to justify y...      0\n",
       "3     not relevant  if he paying all shorty bills and Spoiling her...      0\n",
       "4     not relevant  When doing so, they are healthier than meat ea...      0\n",
       "...            ...                                                ...    ...\n",
       "1080  not relevant  lrt seeing that hereditary shot and unlocking ...      0\n",
       "1081  not relevant  Apparently we’re having a movie marathon bc we...      0\n",
       "1082  not relevant  avp really isn't that bad of a movie except fo...      0\n",
       "1083  not relevant  Old movie posters are pure art. https://twitte...      0\n",
       "1084  not relevant  since I might not be able to make it to the #M...      0\n",
       "\n",
       "[1085 rows x 3 columns]"
      ]
     },
     "execution_count": 12,
     "metadata": {},
     "output_type": "execute_result"
    }
   ],
   "source": [
    "non_relevant_tweets"
   ]
  },
  {
   "cell_type": "code",
   "execution_count": 13,
   "metadata": {},
   "outputs": [
    {
     "data": {
      "text/plain": [
       "category    0\n",
       "text        0\n",
       "label       0\n",
       "dtype: int64"
      ]
     },
     "execution_count": 13,
     "metadata": {},
     "output_type": "execute_result"
    }
   ],
   "source": [
    "non_relevant_tweets.isnull().sum()"
   ]
  },
  {
   "cell_type": "code",
   "execution_count": 14,
   "metadata": {},
   "outputs": [],
   "source": [
    "non_relevant_tweets['category']=non_relevant_tweets['category'].str.replace('not relevant','dont_know')"
   ]
  },
  {
   "cell_type": "code",
   "execution_count": 15,
   "metadata": {},
   "outputs": [
    {
     "data": {
      "text/html": [
       "<div>\n",
       "<style scoped>\n",
       "    .dataframe tbody tr th:only-of-type {\n",
       "        vertical-align: middle;\n",
       "    }\n",
       "\n",
       "    .dataframe tbody tr th {\n",
       "        vertical-align: top;\n",
       "    }\n",
       "\n",
       "    .dataframe thead th {\n",
       "        text-align: right;\n",
       "    }\n",
       "</style>\n",
       "<table border=\"1\" class=\"dataframe\">\n",
       "  <thead>\n",
       "    <tr style=\"text-align: right;\">\n",
       "      <th></th>\n",
       "      <th>category</th>\n",
       "      <th>text</th>\n",
       "      <th>label</th>\n",
       "    </tr>\n",
       "  </thead>\n",
       "  <tbody>\n",
       "    <tr>\n",
       "      <td>0</td>\n",
       "      <td>dont_know</td>\n",
       "      <td>and if you do, don't bring your stupid voting ...</td>\n",
       "      <td>0</td>\n",
       "    </tr>\n",
       "    <tr>\n",
       "      <td>1</td>\n",
       "      <td>dont_know</td>\n",
       "      <td>It’s absolutely worth it do this! I adopted th...</td>\n",
       "      <td>0</td>\n",
       "    </tr>\n",
       "    <tr>\n",
       "      <td>2</td>\n",
       "      <td>dont_know</td>\n",
       "      <td>I suppose you use this same logic to justify y...</td>\n",
       "      <td>0</td>\n",
       "    </tr>\n",
       "    <tr>\n",
       "      <td>3</td>\n",
       "      <td>dont_know</td>\n",
       "      <td>if he paying all shorty bills and Spoiling her...</td>\n",
       "      <td>0</td>\n",
       "    </tr>\n",
       "    <tr>\n",
       "      <td>4</td>\n",
       "      <td>dont_know</td>\n",
       "      <td>When doing so, they are healthier than meat ea...</td>\n",
       "      <td>0</td>\n",
       "    </tr>\n",
       "    <tr>\n",
       "      <td>...</td>\n",
       "      <td>...</td>\n",
       "      <td>...</td>\n",
       "      <td>...</td>\n",
       "    </tr>\n",
       "    <tr>\n",
       "      <td>1080</td>\n",
       "      <td>dont_know</td>\n",
       "      <td>lrt seeing that hereditary shot and unlocking ...</td>\n",
       "      <td>0</td>\n",
       "    </tr>\n",
       "    <tr>\n",
       "      <td>1081</td>\n",
       "      <td>dont_know</td>\n",
       "      <td>Apparently we’re having a movie marathon bc we...</td>\n",
       "      <td>0</td>\n",
       "    </tr>\n",
       "    <tr>\n",
       "      <td>1082</td>\n",
       "      <td>dont_know</td>\n",
       "      <td>avp really isn't that bad of a movie except fo...</td>\n",
       "      <td>0</td>\n",
       "    </tr>\n",
       "    <tr>\n",
       "      <td>1083</td>\n",
       "      <td>dont_know</td>\n",
       "      <td>Old movie posters are pure art. https://twitte...</td>\n",
       "      <td>0</td>\n",
       "    </tr>\n",
       "    <tr>\n",
       "      <td>1084</td>\n",
       "      <td>dont_know</td>\n",
       "      <td>since I might not be able to make it to the #M...</td>\n",
       "      <td>0</td>\n",
       "    </tr>\n",
       "  </tbody>\n",
       "</table>\n",
       "<p>1085 rows × 3 columns</p>\n",
       "</div>"
      ],
      "text/plain": [
       "       category                                               text  label\n",
       "0     dont_know  and if you do, don't bring your stupid voting ...      0\n",
       "1     dont_know  It’s absolutely worth it do this! I adopted th...      0\n",
       "2     dont_know  I suppose you use this same logic to justify y...      0\n",
       "3     dont_know  if he paying all shorty bills and Spoiling her...      0\n",
       "4     dont_know  When doing so, they are healthier than meat ea...      0\n",
       "...         ...                                                ...    ...\n",
       "1080  dont_know  lrt seeing that hereditary shot and unlocking ...      0\n",
       "1081  dont_know  Apparently we’re having a movie marathon bc we...      0\n",
       "1082  dont_know  avp really isn't that bad of a movie except fo...      0\n",
       "1083  dont_know  Old movie posters are pure art. https://twitte...      0\n",
       "1084  dont_know  since I might not be able to make it to the #M...      0\n",
       "\n",
       "[1085 rows x 3 columns]"
      ]
     },
     "execution_count": 15,
     "metadata": {},
     "output_type": "execute_result"
    }
   ],
   "source": [
    "non_relevant_tweets"
   ]
  },
  {
   "cell_type": "code",
   "execution_count": 16,
   "metadata": {},
   "outputs": [],
   "source": [
    "#One Hot encoding\n",
    "df[\"label\"] = np.where(df['please_choose_a_category_'].str.contains('witness'), 1, 0)"
   ]
  },
  {
   "cell_type": "code",
   "execution_count": 17,
   "metadata": {},
   "outputs": [
    {
     "data": {
      "text/html": [
       "<div>\n",
       "<style scoped>\n",
       "    .dataframe tbody tr th:only-of-type {\n",
       "        vertical-align: middle;\n",
       "    }\n",
       "\n",
       "    .dataframe tbody tr th {\n",
       "        vertical-align: top;\n",
       "    }\n",
       "\n",
       "    .dataframe thead th {\n",
       "        text-align: right;\n",
       "    }\n",
       "</style>\n",
       "<table border=\"1\" class=\"dataframe\">\n",
       "  <thead>\n",
       "    <tr style=\"text-align: right;\">\n",
       "      <th></th>\n",
       "      <th>_unit_id</th>\n",
       "      <th>_golden</th>\n",
       "      <th>_unit_state</th>\n",
       "      <th>_trusted_judgments</th>\n",
       "      <th>_last_judgment_at</th>\n",
       "      <th>please_choose_a_category_:confidence</th>\n",
       "      <th>created_at</th>\n",
       "      <th>id_str</th>\n",
       "      <th>rownames</th>\n",
       "      <th>please_choose_a_category_</th>\n",
       "      <th>text</th>\n",
       "      <th>Unnamed: 11</th>\n",
       "      <th>Unnamed: 12</th>\n",
       "      <th>label</th>\n",
       "    </tr>\n",
       "  </thead>\n",
       "  <tbody>\n",
       "    <tr>\n",
       "      <td>0</td>\n",
       "      <td>1830763346</td>\n",
       "      <td>False</td>\n",
       "      <td>finalized</td>\n",
       "      <td>3</td>\n",
       "      <td>7/26/2018 12:30:49</td>\n",
       "      <td>1.0000</td>\n",
       "      <td>Sat May 07 07:17:21 +0000 2016</td>\n",
       "      <td>,728846163798020096,</td>\n",
       "      <td>50034</td>\n",
       "      <td>witness</td>\n",
       "      <td>Damn this Canadian Wildfire got the whole city...</td>\n",
       "      <td>NaN</td>\n",
       "      <td>NaN</td>\n",
       "      <td>1</td>\n",
       "    </tr>\n",
       "    <tr>\n",
       "      <td>1</td>\n",
       "      <td>1830764158</td>\n",
       "      <td>False</td>\n",
       "      <td>finalized</td>\n",
       "      <td>3</td>\n",
       "      <td>7/26/2018 11:16:12</td>\n",
       "      <td>0.6493</td>\n",
       "      <td>Tue Oct 10 18:41:33 +0000 2017</td>\n",
       "      <td>,917822427903623168,</td>\n",
       "      <td>3296</td>\n",
       "      <td>witness</td>\n",
       "      <td>Devastating to see such widespread destruction...</td>\n",
       "      <td>NaN</td>\n",
       "      <td>NaN</td>\n",
       "      <td>1</td>\n",
       "    </tr>\n",
       "    <tr>\n",
       "      <td>2</td>\n",
       "      <td>1830764254</td>\n",
       "      <td>False</td>\n",
       "      <td>finalized</td>\n",
       "      <td>3</td>\n",
       "      <td>7/26/2018 11:24:49</td>\n",
       "      <td>0.6678</td>\n",
       "      <td>Tue Oct 10 19:55:29 +0000 2017</td>\n",
       "      <td>,917841031520849920,</td>\n",
       "      <td>12921</td>\n",
       "      <td>witness</td>\n",
       "      <td>Sonoma county is covered in heavy thick black ...</td>\n",
       "      <td>NaN</td>\n",
       "      <td>NaN</td>\n",
       "      <td>1</td>\n",
       "    </tr>\n",
       "    <tr>\n",
       "      <td>3</td>\n",
       "      <td>1830763975</td>\n",
       "      <td>False</td>\n",
       "      <td>finalized</td>\n",
       "      <td>3</td>\n",
       "      <td>7/26/2018 10:40:38</td>\n",
       "      <td>1.0000</td>\n",
       "      <td>Fri May 06 19:54:26 +0000 2016</td>\n",
       "      <td>,728674301222625280,</td>\n",
       "      <td>25149</td>\n",
       "      <td>witness</td>\n",
       "      <td>Day 6 of the wildfire, Day 4 of being evacuate...</td>\n",
       "      <td>NaN</td>\n",
       "      <td>NaN</td>\n",
       "      <td>1</td>\n",
       "    </tr>\n",
       "    <tr>\n",
       "      <td>4</td>\n",
       "      <td>1830764451</td>\n",
       "      <td>False</td>\n",
       "      <td>finalized</td>\n",
       "      <td>3</td>\n",
       "      <td>7/26/2018 11:28:34</td>\n",
       "      <td>0.6643</td>\n",
       "      <td>Wed Oct 11 01:44:08 +0000 2017</td>\n",
       "      <td>,917928772535336960,</td>\n",
       "      <td>31608</td>\n",
       "      <td>witness</td>\n",
       "      <td>I guess the smoke from the wildfires here in C...</td>\n",
       "      <td>NaN</td>\n",
       "      <td>NaN</td>\n",
       "      <td>1</td>\n",
       "    </tr>\n",
       "    <tr>\n",
       "      <td>...</td>\n",
       "      <td>...</td>\n",
       "      <td>...</td>\n",
       "      <td>...</td>\n",
       "      <td>...</td>\n",
       "      <td>...</td>\n",
       "      <td>...</td>\n",
       "      <td>...</td>\n",
       "      <td>...</td>\n",
       "      <td>...</td>\n",
       "      <td>...</td>\n",
       "      <td>...</td>\n",
       "      <td>...</td>\n",
       "      <td>...</td>\n",
       "      <td>...</td>\n",
       "    </tr>\n",
       "    <tr>\n",
       "      <td>1995</td>\n",
       "      <td>1830763301</td>\n",
       "      <td>False</td>\n",
       "      <td>finalized</td>\n",
       "      <td>3</td>\n",
       "      <td>7/26/2018 12:28:37</td>\n",
       "      <td>0.3413</td>\n",
       "      <td>Sat May 07 06:48:55 +0000 2016</td>\n",
       "      <td>,728839009884114946,</td>\n",
       "      <td>49369</td>\n",
       "      <td>witness</td>\n",
       "      <td>it's that Minneapolis smell we all know and lo...</td>\n",
       "      <td>NaN</td>\n",
       "      <td>NaN</td>\n",
       "      <td>1</td>\n",
       "    </tr>\n",
       "    <tr>\n",
       "      <td>1996</td>\n",
       "      <td>1830764537</td>\n",
       "      <td>False</td>\n",
       "      <td>finalized</td>\n",
       "      <td>3</td>\n",
       "      <td>7/26/2018 11:25:51</td>\n",
       "      <td>0.6538</td>\n",
       "      <td>Wed Oct 11 05:29:11 +0000 2017</td>\n",
       "      <td>,917985410424467457,</td>\n",
       "      <td>50558</td>\n",
       "      <td>witness</td>\n",
       "      <td>It's getting VERY close to home https://t.co/Y...</td>\n",
       "      <td>NaN</td>\n",
       "      <td>NaN</td>\n",
       "      <td>1</td>\n",
       "    </tr>\n",
       "    <tr>\n",
       "      <td>1997</td>\n",
       "      <td>1830764062</td>\n",
       "      <td>False</td>\n",
       "      <td>finalized</td>\n",
       "      <td>3</td>\n",
       "      <td>7/26/2018 11:46:13</td>\n",
       "      <td>0.6875</td>\n",
       "      <td>Sat May 07 11:34:25 +0000 2016</td>\n",
       "      <td>,728910856709345280,</td>\n",
       "      <td>56222</td>\n",
       "      <td>witness</td>\n",
       "      <td>If this is north of me right now that'd explai...</td>\n",
       "      <td>NaN</td>\n",
       "      <td>NaN</td>\n",
       "      <td>1</td>\n",
       "    </tr>\n",
       "    <tr>\n",
       "      <td>1998</td>\n",
       "      <td>1830763892</td>\n",
       "      <td>False</td>\n",
       "      <td>finalized</td>\n",
       "      <td>3</td>\n",
       "      <td>7/26/2018 10:58:12</td>\n",
       "      <td>0.6762</td>\n",
       "      <td>Fri May 06 17:37:17 +0000 2016</td>\n",
       "      <td>,728639786811052032,</td>\n",
       "      <td>19745</td>\n",
       "      <td>witness</td>\n",
       "      <td>Before the wildfire #emergency #preparation #p...</td>\n",
       "      <td>NaN</td>\n",
       "      <td>NaN</td>\n",
       "      <td>1</td>\n",
       "    </tr>\n",
       "    <tr>\n",
       "      <td>1999</td>\n",
       "      <td>1830763157</td>\n",
       "      <td>False</td>\n",
       "      <td>finalized</td>\n",
       "      <td>3</td>\n",
       "      <td>7/26/2018 10:07:38</td>\n",
       "      <td>0.3452</td>\n",
       "      <td>Sat May 07 04:14:23 +0000 2016</td>\n",
       "      <td>,728800119236247552,</td>\n",
       "      <td>44038</td>\n",
       "      <td>witness</td>\n",
       "      <td>This kid gets it. Not about the politics, but ...</td>\n",
       "      <td>NaN</td>\n",
       "      <td>NaN</td>\n",
       "      <td>1</td>\n",
       "    </tr>\n",
       "  </tbody>\n",
       "</table>\n",
       "<p>2000 rows × 14 columns</p>\n",
       "</div>"
      ],
      "text/plain": [
       "        _unit_id  _golden _unit_state  _trusted_judgments   _last_judgment_at  \\\n",
       "0     1830763346    False   finalized                   3  7/26/2018 12:30:49   \n",
       "1     1830764158    False   finalized                   3  7/26/2018 11:16:12   \n",
       "2     1830764254    False   finalized                   3  7/26/2018 11:24:49   \n",
       "3     1830763975    False   finalized                   3  7/26/2018 10:40:38   \n",
       "4     1830764451    False   finalized                   3  7/26/2018 11:28:34   \n",
       "...          ...      ...         ...                 ...                 ...   \n",
       "1995  1830763301    False   finalized                   3  7/26/2018 12:28:37   \n",
       "1996  1830764537    False   finalized                   3  7/26/2018 11:25:51   \n",
       "1997  1830764062    False   finalized                   3  7/26/2018 11:46:13   \n",
       "1998  1830763892    False   finalized                   3  7/26/2018 10:58:12   \n",
       "1999  1830763157    False   finalized                   3  7/26/2018 10:07:38   \n",
       "\n",
       "      please_choose_a_category_:confidence                      created_at  \\\n",
       "0                                   1.0000  Sat May 07 07:17:21 +0000 2016   \n",
       "1                                   0.6493  Tue Oct 10 18:41:33 +0000 2017   \n",
       "2                                   0.6678  Tue Oct 10 19:55:29 +0000 2017   \n",
       "3                                   1.0000  Fri May 06 19:54:26 +0000 2016   \n",
       "4                                   0.6643  Wed Oct 11 01:44:08 +0000 2017   \n",
       "...                                    ...                             ...   \n",
       "1995                                0.3413  Sat May 07 06:48:55 +0000 2016   \n",
       "1996                                0.6538  Wed Oct 11 05:29:11 +0000 2017   \n",
       "1997                                0.6875  Sat May 07 11:34:25 +0000 2016   \n",
       "1998                                0.6762  Fri May 06 17:37:17 +0000 2016   \n",
       "1999                                0.3452  Sat May 07 04:14:23 +0000 2016   \n",
       "\n",
       "                    id_str  rownames please_choose_a_category_  \\\n",
       "0     ,728846163798020096,     50034                   witness   \n",
       "1     ,917822427903623168,      3296                   witness   \n",
       "2     ,917841031520849920,     12921                   witness   \n",
       "3     ,728674301222625280,     25149                   witness   \n",
       "4     ,917928772535336960,     31608                   witness   \n",
       "...                    ...       ...                       ...   \n",
       "1995  ,728839009884114946,     49369                   witness   \n",
       "1996  ,917985410424467457,     50558                   witness   \n",
       "1997  ,728910856709345280,     56222                   witness   \n",
       "1998  ,728639786811052032,     19745                   witness   \n",
       "1999  ,728800119236247552,     44038                   witness   \n",
       "\n",
       "                                                   text  Unnamed: 11  \\\n",
       "0     Damn this Canadian Wildfire got the whole city...          NaN   \n",
       "1     Devastating to see such widespread destruction...          NaN   \n",
       "2     Sonoma county is covered in heavy thick black ...          NaN   \n",
       "3     Day 6 of the wildfire, Day 4 of being evacuate...          NaN   \n",
       "4     I guess the smoke from the wildfires here in C...          NaN   \n",
       "...                                                 ...          ...   \n",
       "1995  it's that Minneapolis smell we all know and lo...          NaN   \n",
       "1996  It's getting VERY close to home https://t.co/Y...          NaN   \n",
       "1997  If this is north of me right now that'd explai...          NaN   \n",
       "1998  Before the wildfire #emergency #preparation #p...          NaN   \n",
       "1999  This kid gets it. Not about the politics, but ...          NaN   \n",
       "\n",
       "      Unnamed: 12  label  \n",
       "0             NaN      1  \n",
       "1             NaN      1  \n",
       "2             NaN      1  \n",
       "3             NaN      1  \n",
       "4             NaN      1  \n",
       "...           ...    ...  \n",
       "1995          NaN      1  \n",
       "1996          NaN      1  \n",
       "1997          NaN      1  \n",
       "1998          NaN      1  \n",
       "1999          NaN      1  \n",
       "\n",
       "[2000 rows x 14 columns]"
      ]
     },
     "execution_count": 17,
     "metadata": {},
     "output_type": "execute_result"
    }
   ],
   "source": [
    "df"
   ]
  },
  {
   "cell_type": "code",
   "execution_count": 18,
   "metadata": {},
   "outputs": [
    {
     "data": {
      "text/plain": [
       "1    1568\n",
       "0     432\n",
       "Name: label, dtype: int64"
      ]
     },
     "execution_count": 18,
     "metadata": {},
     "output_type": "execute_result"
    }
   ],
   "source": [
    "df['label'].value_counts()"
   ]
  },
  {
   "cell_type": "code",
   "execution_count": 19,
   "metadata": {},
   "outputs": [],
   "source": [
    "df.drop(columns=['_unit_id', '_golden', '_unit_state', '_trusted_judgments',\n",
    "       '_last_judgment_at', 'please_choose_a_category_:confidence',\n",
    "       'created_at', 'id_str', 'rownames',\n",
    "       'Unnamed: 11', 'Unnamed: 12'],inplace=True)"
   ]
  },
  {
   "cell_type": "code",
   "execution_count": 20,
   "metadata": {},
   "outputs": [
    {
     "data": {
      "text/html": [
       "<div>\n",
       "<style scoped>\n",
       "    .dataframe tbody tr th:only-of-type {\n",
       "        vertical-align: middle;\n",
       "    }\n",
       "\n",
       "    .dataframe tbody tr th {\n",
       "        vertical-align: top;\n",
       "    }\n",
       "\n",
       "    .dataframe thead th {\n",
       "        text-align: right;\n",
       "    }\n",
       "</style>\n",
       "<table border=\"1\" class=\"dataframe\">\n",
       "  <thead>\n",
       "    <tr style=\"text-align: right;\">\n",
       "      <th></th>\n",
       "      <th>please_choose_a_category_</th>\n",
       "      <th>text</th>\n",
       "      <th>label</th>\n",
       "    </tr>\n",
       "  </thead>\n",
       "  <tbody>\n",
       "    <tr>\n",
       "      <td>0</td>\n",
       "      <td>witness</td>\n",
       "      <td>Damn this Canadian Wildfire got the whole city...</td>\n",
       "      <td>1</td>\n",
       "    </tr>\n",
       "    <tr>\n",
       "      <td>1</td>\n",
       "      <td>witness</td>\n",
       "      <td>Devastating to see such widespread destruction...</td>\n",
       "      <td>1</td>\n",
       "    </tr>\n",
       "    <tr>\n",
       "      <td>2</td>\n",
       "      <td>witness</td>\n",
       "      <td>Sonoma county is covered in heavy thick black ...</td>\n",
       "      <td>1</td>\n",
       "    </tr>\n",
       "    <tr>\n",
       "      <td>3</td>\n",
       "      <td>witness</td>\n",
       "      <td>Day 6 of the wildfire, Day 4 of being evacuate...</td>\n",
       "      <td>1</td>\n",
       "    </tr>\n",
       "    <tr>\n",
       "      <td>4</td>\n",
       "      <td>witness</td>\n",
       "      <td>I guess the smoke from the wildfires here in C...</td>\n",
       "      <td>1</td>\n",
       "    </tr>\n",
       "    <tr>\n",
       "      <td>...</td>\n",
       "      <td>...</td>\n",
       "      <td>...</td>\n",
       "      <td>...</td>\n",
       "    </tr>\n",
       "    <tr>\n",
       "      <td>1995</td>\n",
       "      <td>witness</td>\n",
       "      <td>it's that Minneapolis smell we all know and lo...</td>\n",
       "      <td>1</td>\n",
       "    </tr>\n",
       "    <tr>\n",
       "      <td>1996</td>\n",
       "      <td>witness</td>\n",
       "      <td>It's getting VERY close to home https://t.co/Y...</td>\n",
       "      <td>1</td>\n",
       "    </tr>\n",
       "    <tr>\n",
       "      <td>1997</td>\n",
       "      <td>witness</td>\n",
       "      <td>If this is north of me right now that'd explai...</td>\n",
       "      <td>1</td>\n",
       "    </tr>\n",
       "    <tr>\n",
       "      <td>1998</td>\n",
       "      <td>witness</td>\n",
       "      <td>Before the wildfire #emergency #preparation #p...</td>\n",
       "      <td>1</td>\n",
       "    </tr>\n",
       "    <tr>\n",
       "      <td>1999</td>\n",
       "      <td>witness</td>\n",
       "      <td>This kid gets it. Not about the politics, but ...</td>\n",
       "      <td>1</td>\n",
       "    </tr>\n",
       "  </tbody>\n",
       "</table>\n",
       "<p>2000 rows × 3 columns</p>\n",
       "</div>"
      ],
      "text/plain": [
       "     please_choose_a_category_  \\\n",
       "0                      witness   \n",
       "1                      witness   \n",
       "2                      witness   \n",
       "3                      witness   \n",
       "4                      witness   \n",
       "...                        ...   \n",
       "1995                   witness   \n",
       "1996                   witness   \n",
       "1997                   witness   \n",
       "1998                   witness   \n",
       "1999                   witness   \n",
       "\n",
       "                                                   text  label  \n",
       "0     Damn this Canadian Wildfire got the whole city...      1  \n",
       "1     Devastating to see such widespread destruction...      1  \n",
       "2     Sonoma county is covered in heavy thick black ...      1  \n",
       "3     Day 6 of the wildfire, Day 4 of being evacuate...      1  \n",
       "4     I guess the smoke from the wildfires here in C...      1  \n",
       "...                                                 ...    ...  \n",
       "1995  it's that Minneapolis smell we all know and lo...      1  \n",
       "1996  It's getting VERY close to home https://t.co/Y...      1  \n",
       "1997  If this is north of me right now that'd explai...      1  \n",
       "1998  Before the wildfire #emergency #preparation #p...      1  \n",
       "1999  This kid gets it. Not about the politics, but ...      1  \n",
       "\n",
       "[2000 rows x 3 columns]"
      ]
     },
     "execution_count": 20,
     "metadata": {},
     "output_type": "execute_result"
    }
   ],
   "source": [
    "df"
   ]
  },
  {
   "cell_type": "code",
   "execution_count": 21,
   "metadata": {},
   "outputs": [
    {
     "data": {
      "text/plain": [
       "1966"
      ]
     },
     "execution_count": 21,
     "metadata": {},
     "output_type": "execute_result"
    }
   ],
   "source": [
    "df['text'].nunique()"
   ]
  },
  {
   "cell_type": "code",
   "execution_count": 22,
   "metadata": {},
   "outputs": [],
   "source": [
    "df.drop_duplicates(subset =\"text\", inplace = True)"
   ]
  },
  {
   "cell_type": "code",
   "execution_count": 23,
   "metadata": {},
   "outputs": [
    {
     "data": {
      "text/plain": [
       "1966"
      ]
     },
     "execution_count": 23,
     "metadata": {},
     "output_type": "execute_result"
    }
   ],
   "source": [
    "df['text'].nunique()"
   ]
  },
  {
   "cell_type": "code",
   "execution_count": 24,
   "metadata": {},
   "outputs": [
    {
     "data": {
      "text/plain": [
       "(1966, 3)"
      ]
     },
     "execution_count": 24,
     "metadata": {},
     "output_type": "execute_result"
    }
   ],
   "source": [
    "df.shape"
   ]
  },
  {
   "cell_type": "code",
   "execution_count": 25,
   "metadata": {},
   "outputs": [
    {
     "data": {
      "text/html": [
       "<div>\n",
       "<style scoped>\n",
       "    .dataframe tbody tr th:only-of-type {\n",
       "        vertical-align: middle;\n",
       "    }\n",
       "\n",
       "    .dataframe tbody tr th {\n",
       "        vertical-align: top;\n",
       "    }\n",
       "\n",
       "    .dataframe thead th {\n",
       "        text-align: right;\n",
       "    }\n",
       "</style>\n",
       "<table border=\"1\" class=\"dataframe\">\n",
       "  <thead>\n",
       "    <tr style=\"text-align: right;\">\n",
       "      <th></th>\n",
       "      <th>please_choose_a_category_</th>\n",
       "      <th>text</th>\n",
       "      <th>label</th>\n",
       "    </tr>\n",
       "  </thead>\n",
       "  <tbody>\n",
       "    <tr>\n",
       "      <td>0</td>\n",
       "      <td>witness</td>\n",
       "      <td>Damn this Canadian Wildfire got the whole city...</td>\n",
       "      <td>1</td>\n",
       "    </tr>\n",
       "    <tr>\n",
       "      <td>1</td>\n",
       "      <td>witness</td>\n",
       "      <td>Devastating to see such widespread destruction...</td>\n",
       "      <td>1</td>\n",
       "    </tr>\n",
       "    <tr>\n",
       "      <td>2</td>\n",
       "      <td>witness</td>\n",
       "      <td>Sonoma county is covered in heavy thick black ...</td>\n",
       "      <td>1</td>\n",
       "    </tr>\n",
       "    <tr>\n",
       "      <td>3</td>\n",
       "      <td>witness</td>\n",
       "      <td>Day 6 of the wildfire, Day 4 of being evacuate...</td>\n",
       "      <td>1</td>\n",
       "    </tr>\n",
       "    <tr>\n",
       "      <td>4</td>\n",
       "      <td>witness</td>\n",
       "      <td>I guess the smoke from the wildfires here in C...</td>\n",
       "      <td>1</td>\n",
       "    </tr>\n",
       "    <tr>\n",
       "      <td>...</td>\n",
       "      <td>...</td>\n",
       "      <td>...</td>\n",
       "      <td>...</td>\n",
       "    </tr>\n",
       "    <tr>\n",
       "      <td>1995</td>\n",
       "      <td>witness</td>\n",
       "      <td>it's that Minneapolis smell we all know and lo...</td>\n",
       "      <td>1</td>\n",
       "    </tr>\n",
       "    <tr>\n",
       "      <td>1996</td>\n",
       "      <td>witness</td>\n",
       "      <td>It's getting VERY close to home https://t.co/Y...</td>\n",
       "      <td>1</td>\n",
       "    </tr>\n",
       "    <tr>\n",
       "      <td>1997</td>\n",
       "      <td>witness</td>\n",
       "      <td>If this is north of me right now that'd explai...</td>\n",
       "      <td>1</td>\n",
       "    </tr>\n",
       "    <tr>\n",
       "      <td>1998</td>\n",
       "      <td>witness</td>\n",
       "      <td>Before the wildfire #emergency #preparation #p...</td>\n",
       "      <td>1</td>\n",
       "    </tr>\n",
       "    <tr>\n",
       "      <td>1999</td>\n",
       "      <td>witness</td>\n",
       "      <td>This kid gets it. Not about the politics, but ...</td>\n",
       "      <td>1</td>\n",
       "    </tr>\n",
       "  </tbody>\n",
       "</table>\n",
       "<p>1966 rows × 3 columns</p>\n",
       "</div>"
      ],
      "text/plain": [
       "     please_choose_a_category_  \\\n",
       "0                      witness   \n",
       "1                      witness   \n",
       "2                      witness   \n",
       "3                      witness   \n",
       "4                      witness   \n",
       "...                        ...   \n",
       "1995                   witness   \n",
       "1996                   witness   \n",
       "1997                   witness   \n",
       "1998                   witness   \n",
       "1999                   witness   \n",
       "\n",
       "                                                   text  label  \n",
       "0     Damn this Canadian Wildfire got the whole city...      1  \n",
       "1     Devastating to see such widespread destruction...      1  \n",
       "2     Sonoma county is covered in heavy thick black ...      1  \n",
       "3     Day 6 of the wildfire, Day 4 of being evacuate...      1  \n",
       "4     I guess the smoke from the wildfires here in C...      1  \n",
       "...                                                 ...    ...  \n",
       "1995  it's that Minneapolis smell we all know and lo...      1  \n",
       "1996  It's getting VERY close to home https://t.co/Y...      1  \n",
       "1997  If this is north of me right now that'd explai...      1  \n",
       "1998  Before the wildfire #emergency #preparation #p...      1  \n",
       "1999  This kid gets it. Not about the politics, but ...      1  \n",
       "\n",
       "[1966 rows x 3 columns]"
      ]
     },
     "execution_count": 25,
     "metadata": {},
     "output_type": "execute_result"
    }
   ],
   "source": [
    "df"
   ]
  },
  {
   "cell_type": "code",
   "execution_count": 26,
   "metadata": {},
   "outputs": [],
   "source": [
    "df.reset_index(inplace=True)"
   ]
  },
  {
   "cell_type": "code",
   "execution_count": 27,
   "metadata": {},
   "outputs": [
    {
     "data": {
      "text/html": [
       "<div>\n",
       "<style scoped>\n",
       "    .dataframe tbody tr th:only-of-type {\n",
       "        vertical-align: middle;\n",
       "    }\n",
       "\n",
       "    .dataframe tbody tr th {\n",
       "        vertical-align: top;\n",
       "    }\n",
       "\n",
       "    .dataframe thead th {\n",
       "        text-align: right;\n",
       "    }\n",
       "</style>\n",
       "<table border=\"1\" class=\"dataframe\">\n",
       "  <thead>\n",
       "    <tr style=\"text-align: right;\">\n",
       "      <th></th>\n",
       "      <th>index</th>\n",
       "      <th>please_choose_a_category_</th>\n",
       "      <th>text</th>\n",
       "      <th>label</th>\n",
       "    </tr>\n",
       "  </thead>\n",
       "  <tbody>\n",
       "    <tr>\n",
       "      <td>0</td>\n",
       "      <td>0</td>\n",
       "      <td>witness</td>\n",
       "      <td>Damn this Canadian Wildfire got the whole city...</td>\n",
       "      <td>1</td>\n",
       "    </tr>\n",
       "    <tr>\n",
       "      <td>1</td>\n",
       "      <td>1</td>\n",
       "      <td>witness</td>\n",
       "      <td>Devastating to see such widespread destruction...</td>\n",
       "      <td>1</td>\n",
       "    </tr>\n",
       "    <tr>\n",
       "      <td>2</td>\n",
       "      <td>2</td>\n",
       "      <td>witness</td>\n",
       "      <td>Sonoma county is covered in heavy thick black ...</td>\n",
       "      <td>1</td>\n",
       "    </tr>\n",
       "    <tr>\n",
       "      <td>3</td>\n",
       "      <td>3</td>\n",
       "      <td>witness</td>\n",
       "      <td>Day 6 of the wildfire, Day 4 of being evacuate...</td>\n",
       "      <td>1</td>\n",
       "    </tr>\n",
       "    <tr>\n",
       "      <td>4</td>\n",
       "      <td>4</td>\n",
       "      <td>witness</td>\n",
       "      <td>I guess the smoke from the wildfires here in C...</td>\n",
       "      <td>1</td>\n",
       "    </tr>\n",
       "    <tr>\n",
       "      <td>...</td>\n",
       "      <td>...</td>\n",
       "      <td>...</td>\n",
       "      <td>...</td>\n",
       "      <td>...</td>\n",
       "    </tr>\n",
       "    <tr>\n",
       "      <td>1961</td>\n",
       "      <td>1995</td>\n",
       "      <td>witness</td>\n",
       "      <td>it's that Minneapolis smell we all know and lo...</td>\n",
       "      <td>1</td>\n",
       "    </tr>\n",
       "    <tr>\n",
       "      <td>1962</td>\n",
       "      <td>1996</td>\n",
       "      <td>witness</td>\n",
       "      <td>It's getting VERY close to home https://t.co/Y...</td>\n",
       "      <td>1</td>\n",
       "    </tr>\n",
       "    <tr>\n",
       "      <td>1963</td>\n",
       "      <td>1997</td>\n",
       "      <td>witness</td>\n",
       "      <td>If this is north of me right now that'd explai...</td>\n",
       "      <td>1</td>\n",
       "    </tr>\n",
       "    <tr>\n",
       "      <td>1964</td>\n",
       "      <td>1998</td>\n",
       "      <td>witness</td>\n",
       "      <td>Before the wildfire #emergency #preparation #p...</td>\n",
       "      <td>1</td>\n",
       "    </tr>\n",
       "    <tr>\n",
       "      <td>1965</td>\n",
       "      <td>1999</td>\n",
       "      <td>witness</td>\n",
       "      <td>This kid gets it. Not about the politics, but ...</td>\n",
       "      <td>1</td>\n",
       "    </tr>\n",
       "  </tbody>\n",
       "</table>\n",
       "<p>1966 rows × 4 columns</p>\n",
       "</div>"
      ],
      "text/plain": [
       "      index please_choose_a_category_  \\\n",
       "0         0                   witness   \n",
       "1         1                   witness   \n",
       "2         2                   witness   \n",
       "3         3                   witness   \n",
       "4         4                   witness   \n",
       "...     ...                       ...   \n",
       "1961   1995                   witness   \n",
       "1962   1996                   witness   \n",
       "1963   1997                   witness   \n",
       "1964   1998                   witness   \n",
       "1965   1999                   witness   \n",
       "\n",
       "                                                   text  label  \n",
       "0     Damn this Canadian Wildfire got the whole city...      1  \n",
       "1     Devastating to see such widespread destruction...      1  \n",
       "2     Sonoma county is covered in heavy thick black ...      1  \n",
       "3     Day 6 of the wildfire, Day 4 of being evacuate...      1  \n",
       "4     I guess the smoke from the wildfires here in C...      1  \n",
       "...                                                 ...    ...  \n",
       "1961  it's that Minneapolis smell we all know and lo...      1  \n",
       "1962  It's getting VERY close to home https://t.co/Y...      1  \n",
       "1963  If this is north of me right now that'd explai...      1  \n",
       "1964  Before the wildfire #emergency #preparation #p...      1  \n",
       "1965  This kid gets it. Not about the politics, but ...      1  \n",
       "\n",
       "[1966 rows x 4 columns]"
      ]
     },
     "execution_count": 27,
     "metadata": {},
     "output_type": "execute_result"
    }
   ],
   "source": [
    "df"
   ]
  },
  {
   "cell_type": "code",
   "execution_count": 28,
   "metadata": {},
   "outputs": [],
   "source": [
    "df.drop(columns='index',inplace=True)"
   ]
  },
  {
   "cell_type": "code",
   "execution_count": 29,
   "metadata": {},
   "outputs": [
    {
     "data": {
      "text/html": [
       "<div>\n",
       "<style scoped>\n",
       "    .dataframe tbody tr th:only-of-type {\n",
       "        vertical-align: middle;\n",
       "    }\n",
       "\n",
       "    .dataframe tbody tr th {\n",
       "        vertical-align: top;\n",
       "    }\n",
       "\n",
       "    .dataframe thead th {\n",
       "        text-align: right;\n",
       "    }\n",
       "</style>\n",
       "<table border=\"1\" class=\"dataframe\">\n",
       "  <thead>\n",
       "    <tr style=\"text-align: right;\">\n",
       "      <th></th>\n",
       "      <th>please_choose_a_category_</th>\n",
       "      <th>text</th>\n",
       "      <th>label</th>\n",
       "    </tr>\n",
       "  </thead>\n",
       "  <tbody>\n",
       "    <tr>\n",
       "      <td>0</td>\n",
       "      <td>witness</td>\n",
       "      <td>Damn this Canadian Wildfire got the whole city...</td>\n",
       "      <td>1</td>\n",
       "    </tr>\n",
       "    <tr>\n",
       "      <td>1</td>\n",
       "      <td>witness</td>\n",
       "      <td>Devastating to see such widespread destruction...</td>\n",
       "      <td>1</td>\n",
       "    </tr>\n",
       "    <tr>\n",
       "      <td>2</td>\n",
       "      <td>witness</td>\n",
       "      <td>Sonoma county is covered in heavy thick black ...</td>\n",
       "      <td>1</td>\n",
       "    </tr>\n",
       "    <tr>\n",
       "      <td>3</td>\n",
       "      <td>witness</td>\n",
       "      <td>Day 6 of the wildfire, Day 4 of being evacuate...</td>\n",
       "      <td>1</td>\n",
       "    </tr>\n",
       "    <tr>\n",
       "      <td>4</td>\n",
       "      <td>witness</td>\n",
       "      <td>I guess the smoke from the wildfires here in C...</td>\n",
       "      <td>1</td>\n",
       "    </tr>\n",
       "    <tr>\n",
       "      <td>...</td>\n",
       "      <td>...</td>\n",
       "      <td>...</td>\n",
       "      <td>...</td>\n",
       "    </tr>\n",
       "    <tr>\n",
       "      <td>1961</td>\n",
       "      <td>witness</td>\n",
       "      <td>it's that Minneapolis smell we all know and lo...</td>\n",
       "      <td>1</td>\n",
       "    </tr>\n",
       "    <tr>\n",
       "      <td>1962</td>\n",
       "      <td>witness</td>\n",
       "      <td>It's getting VERY close to home https://t.co/Y...</td>\n",
       "      <td>1</td>\n",
       "    </tr>\n",
       "    <tr>\n",
       "      <td>1963</td>\n",
       "      <td>witness</td>\n",
       "      <td>If this is north of me right now that'd explai...</td>\n",
       "      <td>1</td>\n",
       "    </tr>\n",
       "    <tr>\n",
       "      <td>1964</td>\n",
       "      <td>witness</td>\n",
       "      <td>Before the wildfire #emergency #preparation #p...</td>\n",
       "      <td>1</td>\n",
       "    </tr>\n",
       "    <tr>\n",
       "      <td>1965</td>\n",
       "      <td>witness</td>\n",
       "      <td>This kid gets it. Not about the politics, but ...</td>\n",
       "      <td>1</td>\n",
       "    </tr>\n",
       "  </tbody>\n",
       "</table>\n",
       "<p>1966 rows × 3 columns</p>\n",
       "</div>"
      ],
      "text/plain": [
       "     please_choose_a_category_  \\\n",
       "0                      witness   \n",
       "1                      witness   \n",
       "2                      witness   \n",
       "3                      witness   \n",
       "4                      witness   \n",
       "...                        ...   \n",
       "1961                   witness   \n",
       "1962                   witness   \n",
       "1963                   witness   \n",
       "1964                   witness   \n",
       "1965                   witness   \n",
       "\n",
       "                                                   text  label  \n",
       "0     Damn this Canadian Wildfire got the whole city...      1  \n",
       "1     Devastating to see such widespread destruction...      1  \n",
       "2     Sonoma county is covered in heavy thick black ...      1  \n",
       "3     Day 6 of the wildfire, Day 4 of being evacuate...      1  \n",
       "4     I guess the smoke from the wildfires here in C...      1  \n",
       "...                                                 ...    ...  \n",
       "1961  it's that Minneapolis smell we all know and lo...      1  \n",
       "1962  It's getting VERY close to home https://t.co/Y...      1  \n",
       "1963  If this is north of me right now that'd explai...      1  \n",
       "1964  Before the wildfire #emergency #preparation #p...      1  \n",
       "1965  This kid gets it. Not about the politics, but ...      1  \n",
       "\n",
       "[1966 rows x 3 columns]"
      ]
     },
     "execution_count": 29,
     "metadata": {},
     "output_type": "execute_result"
    }
   ],
   "source": [
    "df"
   ]
  },
  {
   "cell_type": "code",
   "execution_count": 30,
   "metadata": {},
   "outputs": [
    {
     "data": {
      "text/plain": [
       "1    1544\n",
       "0     422\n",
       "Name: label, dtype: int64"
      ]
     },
     "execution_count": 30,
     "metadata": {},
     "output_type": "execute_result"
    }
   ],
   "source": [
    "df['label'].value_counts()"
   ]
  },
  {
   "cell_type": "code",
   "execution_count": 31,
   "metadata": {},
   "outputs": [],
   "source": [
    "df.rename(columns = {'please_choose_a_category_':'category'}, inplace = True) "
   ]
  },
  {
   "cell_type": "code",
   "execution_count": 32,
   "metadata": {},
   "outputs": [
    {
     "data": {
      "text/html": [
       "<div>\n",
       "<style scoped>\n",
       "    .dataframe tbody tr th:only-of-type {\n",
       "        vertical-align: middle;\n",
       "    }\n",
       "\n",
       "    .dataframe tbody tr th {\n",
       "        vertical-align: top;\n",
       "    }\n",
       "\n",
       "    .dataframe thead th {\n",
       "        text-align: right;\n",
       "    }\n",
       "</style>\n",
       "<table border=\"1\" class=\"dataframe\">\n",
       "  <thead>\n",
       "    <tr style=\"text-align: right;\">\n",
       "      <th></th>\n",
       "      <th>category</th>\n",
       "      <th>text</th>\n",
       "      <th>label</th>\n",
       "    </tr>\n",
       "  </thead>\n",
       "  <tbody>\n",
       "    <tr>\n",
       "      <td>0</td>\n",
       "      <td>witness</td>\n",
       "      <td>Damn this Canadian Wildfire got the whole city...</td>\n",
       "      <td>1</td>\n",
       "    </tr>\n",
       "    <tr>\n",
       "      <td>1</td>\n",
       "      <td>witness</td>\n",
       "      <td>Devastating to see such widespread destruction...</td>\n",
       "      <td>1</td>\n",
       "    </tr>\n",
       "    <tr>\n",
       "      <td>2</td>\n",
       "      <td>witness</td>\n",
       "      <td>Sonoma county is covered in heavy thick black ...</td>\n",
       "      <td>1</td>\n",
       "    </tr>\n",
       "    <tr>\n",
       "      <td>3</td>\n",
       "      <td>witness</td>\n",
       "      <td>Day 6 of the wildfire, Day 4 of being evacuate...</td>\n",
       "      <td>1</td>\n",
       "    </tr>\n",
       "    <tr>\n",
       "      <td>4</td>\n",
       "      <td>witness</td>\n",
       "      <td>I guess the smoke from the wildfires here in C...</td>\n",
       "      <td>1</td>\n",
       "    </tr>\n",
       "    <tr>\n",
       "      <td>...</td>\n",
       "      <td>...</td>\n",
       "      <td>...</td>\n",
       "      <td>...</td>\n",
       "    </tr>\n",
       "    <tr>\n",
       "      <td>1961</td>\n",
       "      <td>witness</td>\n",
       "      <td>it's that Minneapolis smell we all know and lo...</td>\n",
       "      <td>1</td>\n",
       "    </tr>\n",
       "    <tr>\n",
       "      <td>1962</td>\n",
       "      <td>witness</td>\n",
       "      <td>It's getting VERY close to home https://t.co/Y...</td>\n",
       "      <td>1</td>\n",
       "    </tr>\n",
       "    <tr>\n",
       "      <td>1963</td>\n",
       "      <td>witness</td>\n",
       "      <td>If this is north of me right now that'd explai...</td>\n",
       "      <td>1</td>\n",
       "    </tr>\n",
       "    <tr>\n",
       "      <td>1964</td>\n",
       "      <td>witness</td>\n",
       "      <td>Before the wildfire #emergency #preparation #p...</td>\n",
       "      <td>1</td>\n",
       "    </tr>\n",
       "    <tr>\n",
       "      <td>1965</td>\n",
       "      <td>witness</td>\n",
       "      <td>This kid gets it. Not about the politics, but ...</td>\n",
       "      <td>1</td>\n",
       "    </tr>\n",
       "  </tbody>\n",
       "</table>\n",
       "<p>1966 rows × 3 columns</p>\n",
       "</div>"
      ],
      "text/plain": [
       "     category                                               text  label\n",
       "0     witness  Damn this Canadian Wildfire got the whole city...      1\n",
       "1     witness  Devastating to see such widespread destruction...      1\n",
       "2     witness  Sonoma county is covered in heavy thick black ...      1\n",
       "3     witness  Day 6 of the wildfire, Day 4 of being evacuate...      1\n",
       "4     witness  I guess the smoke from the wildfires here in C...      1\n",
       "...       ...                                                ...    ...\n",
       "1961  witness  it's that Minneapolis smell we all know and lo...      1\n",
       "1962  witness  It's getting VERY close to home https://t.co/Y...      1\n",
       "1963  witness  If this is north of me right now that'd explai...      1\n",
       "1964  witness  Before the wildfire #emergency #preparation #p...      1\n",
       "1965  witness  This kid gets it. Not about the politics, but ...      1\n",
       "\n",
       "[1966 rows x 3 columns]"
      ]
     },
     "execution_count": 32,
     "metadata": {},
     "output_type": "execute_result"
    }
   ],
   "source": [
    "df"
   ]
  },
  {
   "cell_type": "code",
   "execution_count": 33,
   "metadata": {},
   "outputs": [
    {
     "data": {
      "text/html": [
       "<div>\n",
       "<style scoped>\n",
       "    .dataframe tbody tr th:only-of-type {\n",
       "        vertical-align: middle;\n",
       "    }\n",
       "\n",
       "    .dataframe tbody tr th {\n",
       "        vertical-align: top;\n",
       "    }\n",
       "\n",
       "    .dataframe thead th {\n",
       "        text-align: right;\n",
       "    }\n",
       "</style>\n",
       "<table border=\"1\" class=\"dataframe\">\n",
       "  <thead>\n",
       "    <tr style=\"text-align: right;\">\n",
       "      <th></th>\n",
       "      <th>category</th>\n",
       "      <th>text</th>\n",
       "      <th>label</th>\n",
       "    </tr>\n",
       "  </thead>\n",
       "  <tbody>\n",
       "    <tr>\n",
       "      <td>0</td>\n",
       "      <td>dont_know</td>\n",
       "      <td>and if you do, don't bring your stupid voting ...</td>\n",
       "      <td>0</td>\n",
       "    </tr>\n",
       "    <tr>\n",
       "      <td>1</td>\n",
       "      <td>dont_know</td>\n",
       "      <td>It’s absolutely worth it do this! I adopted th...</td>\n",
       "      <td>0</td>\n",
       "    </tr>\n",
       "    <tr>\n",
       "      <td>2</td>\n",
       "      <td>dont_know</td>\n",
       "      <td>I suppose you use this same logic to justify y...</td>\n",
       "      <td>0</td>\n",
       "    </tr>\n",
       "    <tr>\n",
       "      <td>3</td>\n",
       "      <td>dont_know</td>\n",
       "      <td>if he paying all shorty bills and Spoiling her...</td>\n",
       "      <td>0</td>\n",
       "    </tr>\n",
       "    <tr>\n",
       "      <td>4</td>\n",
       "      <td>dont_know</td>\n",
       "      <td>When doing so, they are healthier than meat ea...</td>\n",
       "      <td>0</td>\n",
       "    </tr>\n",
       "    <tr>\n",
       "      <td>...</td>\n",
       "      <td>...</td>\n",
       "      <td>...</td>\n",
       "      <td>...</td>\n",
       "    </tr>\n",
       "    <tr>\n",
       "      <td>1080</td>\n",
       "      <td>dont_know</td>\n",
       "      <td>lrt seeing that hereditary shot and unlocking ...</td>\n",
       "      <td>0</td>\n",
       "    </tr>\n",
       "    <tr>\n",
       "      <td>1081</td>\n",
       "      <td>dont_know</td>\n",
       "      <td>Apparently we’re having a movie marathon bc we...</td>\n",
       "      <td>0</td>\n",
       "    </tr>\n",
       "    <tr>\n",
       "      <td>1082</td>\n",
       "      <td>dont_know</td>\n",
       "      <td>avp really isn't that bad of a movie except fo...</td>\n",
       "      <td>0</td>\n",
       "    </tr>\n",
       "    <tr>\n",
       "      <td>1083</td>\n",
       "      <td>dont_know</td>\n",
       "      <td>Old movie posters are pure art. https://twitte...</td>\n",
       "      <td>0</td>\n",
       "    </tr>\n",
       "    <tr>\n",
       "      <td>1084</td>\n",
       "      <td>dont_know</td>\n",
       "      <td>since I might not be able to make it to the #M...</td>\n",
       "      <td>0</td>\n",
       "    </tr>\n",
       "  </tbody>\n",
       "</table>\n",
       "<p>1085 rows × 3 columns</p>\n",
       "</div>"
      ],
      "text/plain": [
       "       category                                               text  label\n",
       "0     dont_know  and if you do, don't bring your stupid voting ...      0\n",
       "1     dont_know  It’s absolutely worth it do this! I adopted th...      0\n",
       "2     dont_know  I suppose you use this same logic to justify y...      0\n",
       "3     dont_know  if he paying all shorty bills and Spoiling her...      0\n",
       "4     dont_know  When doing so, they are healthier than meat ea...      0\n",
       "...         ...                                                ...    ...\n",
       "1080  dont_know  lrt seeing that hereditary shot and unlocking ...      0\n",
       "1081  dont_know  Apparently we’re having a movie marathon bc we...      0\n",
       "1082  dont_know  avp really isn't that bad of a movie except fo...      0\n",
       "1083  dont_know  Old movie posters are pure art. https://twitte...      0\n",
       "1084  dont_know  since I might not be able to make it to the #M...      0\n",
       "\n",
       "[1085 rows x 3 columns]"
      ]
     },
     "execution_count": 33,
     "metadata": {},
     "output_type": "execute_result"
    }
   ],
   "source": [
    "non_relevant_tweets"
   ]
  },
  {
   "cell_type": "code",
   "execution_count": 34,
   "metadata": {},
   "outputs": [],
   "source": [
    "final_df = df.append(non_relevant_tweets)"
   ]
  },
  {
   "cell_type": "code",
   "execution_count": 35,
   "metadata": {},
   "outputs": [
    {
     "data": {
      "text/html": [
       "<div>\n",
       "<style scoped>\n",
       "    .dataframe tbody tr th:only-of-type {\n",
       "        vertical-align: middle;\n",
       "    }\n",
       "\n",
       "    .dataframe tbody tr th {\n",
       "        vertical-align: top;\n",
       "    }\n",
       "\n",
       "    .dataframe thead th {\n",
       "        text-align: right;\n",
       "    }\n",
       "</style>\n",
       "<table border=\"1\" class=\"dataframe\">\n",
       "  <thead>\n",
       "    <tr style=\"text-align: right;\">\n",
       "      <th></th>\n",
       "      <th>category</th>\n",
       "      <th>text</th>\n",
       "      <th>label</th>\n",
       "    </tr>\n",
       "  </thead>\n",
       "  <tbody>\n",
       "    <tr>\n",
       "      <td>0</td>\n",
       "      <td>witness</td>\n",
       "      <td>Damn this Canadian Wildfire got the whole city...</td>\n",
       "      <td>1</td>\n",
       "    </tr>\n",
       "    <tr>\n",
       "      <td>1</td>\n",
       "      <td>witness</td>\n",
       "      <td>Devastating to see such widespread destruction...</td>\n",
       "      <td>1</td>\n",
       "    </tr>\n",
       "    <tr>\n",
       "      <td>2</td>\n",
       "      <td>witness</td>\n",
       "      <td>Sonoma county is covered in heavy thick black ...</td>\n",
       "      <td>1</td>\n",
       "    </tr>\n",
       "    <tr>\n",
       "      <td>3</td>\n",
       "      <td>witness</td>\n",
       "      <td>Day 6 of the wildfire, Day 4 of being evacuate...</td>\n",
       "      <td>1</td>\n",
       "    </tr>\n",
       "    <tr>\n",
       "      <td>4</td>\n",
       "      <td>witness</td>\n",
       "      <td>I guess the smoke from the wildfires here in C...</td>\n",
       "      <td>1</td>\n",
       "    </tr>\n",
       "    <tr>\n",
       "      <td>...</td>\n",
       "      <td>...</td>\n",
       "      <td>...</td>\n",
       "      <td>...</td>\n",
       "    </tr>\n",
       "    <tr>\n",
       "      <td>1080</td>\n",
       "      <td>dont_know</td>\n",
       "      <td>lrt seeing that hereditary shot and unlocking ...</td>\n",
       "      <td>0</td>\n",
       "    </tr>\n",
       "    <tr>\n",
       "      <td>1081</td>\n",
       "      <td>dont_know</td>\n",
       "      <td>Apparently we’re having a movie marathon bc we...</td>\n",
       "      <td>0</td>\n",
       "    </tr>\n",
       "    <tr>\n",
       "      <td>1082</td>\n",
       "      <td>dont_know</td>\n",
       "      <td>avp really isn't that bad of a movie except fo...</td>\n",
       "      <td>0</td>\n",
       "    </tr>\n",
       "    <tr>\n",
       "      <td>1083</td>\n",
       "      <td>dont_know</td>\n",
       "      <td>Old movie posters are pure art. https://twitte...</td>\n",
       "      <td>0</td>\n",
       "    </tr>\n",
       "    <tr>\n",
       "      <td>1084</td>\n",
       "      <td>dont_know</td>\n",
       "      <td>since I might not be able to make it to the #M...</td>\n",
       "      <td>0</td>\n",
       "    </tr>\n",
       "  </tbody>\n",
       "</table>\n",
       "<p>3051 rows × 3 columns</p>\n",
       "</div>"
      ],
      "text/plain": [
       "       category                                               text  label\n",
       "0       witness  Damn this Canadian Wildfire got the whole city...      1\n",
       "1       witness  Devastating to see such widespread destruction...      1\n",
       "2       witness  Sonoma county is covered in heavy thick black ...      1\n",
       "3       witness  Day 6 of the wildfire, Day 4 of being evacuate...      1\n",
       "4       witness  I guess the smoke from the wildfires here in C...      1\n",
       "...         ...                                                ...    ...\n",
       "1080  dont_know  lrt seeing that hereditary shot and unlocking ...      0\n",
       "1081  dont_know  Apparently we’re having a movie marathon bc we...      0\n",
       "1082  dont_know  avp really isn't that bad of a movie except fo...      0\n",
       "1083  dont_know  Old movie posters are pure art. https://twitte...      0\n",
       "1084  dont_know  since I might not be able to make it to the #M...      0\n",
       "\n",
       "[3051 rows x 3 columns]"
      ]
     },
     "execution_count": 35,
     "metadata": {},
     "output_type": "execute_result"
    }
   ],
   "source": [
    "final_df"
   ]
  },
  {
   "cell_type": "code",
   "execution_count": 36,
   "metadata": {},
   "outputs": [
    {
     "data": {
      "text/html": [
       "<div>\n",
       "<style scoped>\n",
       "    .dataframe tbody tr th:only-of-type {\n",
       "        vertical-align: middle;\n",
       "    }\n",
       "\n",
       "    .dataframe tbody tr th {\n",
       "        vertical-align: top;\n",
       "    }\n",
       "\n",
       "    .dataframe thead th {\n",
       "        text-align: right;\n",
       "    }\n",
       "</style>\n",
       "<table border=\"1\" class=\"dataframe\">\n",
       "  <thead>\n",
       "    <tr style=\"text-align: right;\">\n",
       "      <th></th>\n",
       "      <th>index</th>\n",
       "      <th>category</th>\n",
       "      <th>text</th>\n",
       "      <th>label</th>\n",
       "    </tr>\n",
       "  </thead>\n",
       "  <tbody>\n",
       "    <tr>\n",
       "      <td>0</td>\n",
       "      <td>0</td>\n",
       "      <td>witness</td>\n",
       "      <td>Damn this Canadian Wildfire got the whole city...</td>\n",
       "      <td>1</td>\n",
       "    </tr>\n",
       "    <tr>\n",
       "      <td>1</td>\n",
       "      <td>1</td>\n",
       "      <td>witness</td>\n",
       "      <td>Devastating to see such widespread destruction...</td>\n",
       "      <td>1</td>\n",
       "    </tr>\n",
       "    <tr>\n",
       "      <td>2</td>\n",
       "      <td>2</td>\n",
       "      <td>witness</td>\n",
       "      <td>Sonoma county is covered in heavy thick black ...</td>\n",
       "      <td>1</td>\n",
       "    </tr>\n",
       "    <tr>\n",
       "      <td>3</td>\n",
       "      <td>3</td>\n",
       "      <td>witness</td>\n",
       "      <td>Day 6 of the wildfire, Day 4 of being evacuate...</td>\n",
       "      <td>1</td>\n",
       "    </tr>\n",
       "    <tr>\n",
       "      <td>4</td>\n",
       "      <td>4</td>\n",
       "      <td>witness</td>\n",
       "      <td>I guess the smoke from the wildfires here in C...</td>\n",
       "      <td>1</td>\n",
       "    </tr>\n",
       "    <tr>\n",
       "      <td>...</td>\n",
       "      <td>...</td>\n",
       "      <td>...</td>\n",
       "      <td>...</td>\n",
       "      <td>...</td>\n",
       "    </tr>\n",
       "    <tr>\n",
       "      <td>3046</td>\n",
       "      <td>1080</td>\n",
       "      <td>dont_know</td>\n",
       "      <td>lrt seeing that hereditary shot and unlocking ...</td>\n",
       "      <td>0</td>\n",
       "    </tr>\n",
       "    <tr>\n",
       "      <td>3047</td>\n",
       "      <td>1081</td>\n",
       "      <td>dont_know</td>\n",
       "      <td>Apparently we’re having a movie marathon bc we...</td>\n",
       "      <td>0</td>\n",
       "    </tr>\n",
       "    <tr>\n",
       "      <td>3048</td>\n",
       "      <td>1082</td>\n",
       "      <td>dont_know</td>\n",
       "      <td>avp really isn't that bad of a movie except fo...</td>\n",
       "      <td>0</td>\n",
       "    </tr>\n",
       "    <tr>\n",
       "      <td>3049</td>\n",
       "      <td>1083</td>\n",
       "      <td>dont_know</td>\n",
       "      <td>Old movie posters are pure art. https://twitte...</td>\n",
       "      <td>0</td>\n",
       "    </tr>\n",
       "    <tr>\n",
       "      <td>3050</td>\n",
       "      <td>1084</td>\n",
       "      <td>dont_know</td>\n",
       "      <td>since I might not be able to make it to the #M...</td>\n",
       "      <td>0</td>\n",
       "    </tr>\n",
       "  </tbody>\n",
       "</table>\n",
       "<p>3051 rows × 4 columns</p>\n",
       "</div>"
      ],
      "text/plain": [
       "      index   category                                               text  \\\n",
       "0         0    witness  Damn this Canadian Wildfire got the whole city...   \n",
       "1         1    witness  Devastating to see such widespread destruction...   \n",
       "2         2    witness  Sonoma county is covered in heavy thick black ...   \n",
       "3         3    witness  Day 6 of the wildfire, Day 4 of being evacuate...   \n",
       "4         4    witness  I guess the smoke from the wildfires here in C...   \n",
       "...     ...        ...                                                ...   \n",
       "3046   1080  dont_know  lrt seeing that hereditary shot and unlocking ...   \n",
       "3047   1081  dont_know  Apparently we’re having a movie marathon bc we...   \n",
       "3048   1082  dont_know  avp really isn't that bad of a movie except fo...   \n",
       "3049   1083  dont_know  Old movie posters are pure art. https://twitte...   \n",
       "3050   1084  dont_know  since I might not be able to make it to the #M...   \n",
       "\n",
       "      label  \n",
       "0         1  \n",
       "1         1  \n",
       "2         1  \n",
       "3         1  \n",
       "4         1  \n",
       "...     ...  \n",
       "3046      0  \n",
       "3047      0  \n",
       "3048      0  \n",
       "3049      0  \n",
       "3050      0  \n",
       "\n",
       "[3051 rows x 4 columns]"
      ]
     },
     "execution_count": 36,
     "metadata": {},
     "output_type": "execute_result"
    }
   ],
   "source": [
    "final_df.reset_index()"
   ]
  },
  {
   "cell_type": "code",
   "execution_count": 37,
   "metadata": {},
   "outputs": [
    {
     "data": {
      "text/plain": [
       "category    dont_know\n",
       "text             Same\n",
       "label               0\n",
       "Name: 94, dtype: object"
      ]
     },
     "execution_count": 37,
     "metadata": {},
     "output_type": "execute_result"
    }
   ],
   "source": [
    "final_df.iloc[2060]"
   ]
  },
  {
   "cell_type": "code",
   "execution_count": 38,
   "metadata": {},
   "outputs": [],
   "source": [
    "final_df['text'].replace('', np.nan, inplace=True)"
   ]
  },
  {
   "cell_type": "code",
   "execution_count": 39,
   "metadata": {},
   "outputs": [
    {
     "data": {
      "text/plain": [
       "category    dont_know\n",
       "text             Same\n",
       "label               0\n",
       "Name: 94, dtype: object"
      ]
     },
     "execution_count": 39,
     "metadata": {},
     "output_type": "execute_result"
    }
   ],
   "source": [
    "final_df.iloc[2060]"
   ]
  },
  {
   "cell_type": "code",
   "execution_count": 40,
   "metadata": {},
   "outputs": [],
   "source": [
    "def remove_url(text):\n",
    "    new_text = re.sub(r'https?://\\S+|www\\.\\S+', '', text)\n",
    "    \n",
    "    return new_text"
   ]
  },
  {
   "cell_type": "code",
   "execution_count": 41,
   "metadata": {},
   "outputs": [],
   "source": [
    "# Remove HTML tags\n",
    "def remove_html(text):\n",
    "    soup = BeautifulSoup(text)\n",
    "    \n",
    "    return soup.get_text()"
   ]
  },
  {
   "cell_type": "code",
   "execution_count": 42,
   "metadata": {},
   "outputs": [],
   "source": [
    "def keep_only_words(text):\n",
    "    new_text = re.sub('[^a-zA-Z]', ' ', text)\n",
    "    return new_text"
   ]
  },
  {
   "cell_type": "code",
   "execution_count": 43,
   "metadata": {},
   "outputs": [],
   "source": [
    "def lower_words(text):\n",
    "    new_text = text.lower()\n",
    "    \n",
    "    return new_text"
   ]
  },
  {
   "cell_type": "code",
   "execution_count": 44,
   "metadata": {},
   "outputs": [],
   "source": [
    "def remove_stopwords(text):\n",
    "    new_text = [word for word in text if word not in stopwords.words('english')]\n",
    "    \n",
    "    # The text is still a list of words because it is convinient for next process\n",
    "    return new_text"
   ]
  },
  {
   "cell_type": "code",
   "execution_count": 45,
   "metadata": {},
   "outputs": [],
   "source": [
    "def remove_specific_locations(text):\n",
    "    # Create a list of sentense with split words.\n",
    "    split_text = text.split()\n",
    "    \n",
    "    # Locations you want to remove\n",
    "    locations = ['canada', 'tokyo', 'minneapolis','sonoma county','canadian','alberta','california','new york city','ca','sonoma','northern','souther','eastern','western','santa rosa','santa monica','santa ysabel','santarosa']\n",
    "    \n",
    "    # Remove locations from a text\n",
    "    new_text = [word for word in split_text if word not in locations]\n",
    "    \n",
    "    # The text is still a list of words because it is convinient for next process\n",
    "    return new_text"
   ]
  },
  {
   "cell_type": "code",
   "execution_count": 46,
   "metadata": {},
   "outputs": [],
   "source": [
    "def stemming(text):\n",
    "    p_stemmer = PorterStemmer()\n",
    "    stemmed = [p_stemmer.stem(i) for i in text]\n",
    "    \n",
    "    return ' '.join(stemmed)"
   ]
  },
  {
   "cell_type": "code",
   "execution_count": 47,
   "metadata": {},
   "outputs": [],
   "source": [
    "def clean_text(text):\n",
    "    url_removed = remove_url(text)\n",
    "    \n",
    "    html_removed = remove_html(url_removed)\n",
    "    \n",
    "    words_only = keep_only_words(html_removed)\n",
    "    \n",
    "    lowered = lower_words(words_only)\n",
    "    \n",
    "    location_removed = remove_specific_locations(lowered)\n",
    "    \n",
    "    stopwords_removed = remove_stopwords(location_removed)\n",
    "    \n",
    "    stemmed = stemming(stopwords_removed)\n",
    "    \n",
    "    return stemmed"
   ]
  },
  {
   "cell_type": "code",
   "execution_count": 48,
   "metadata": {},
   "outputs": [],
   "source": [
    "final_df['text'] = final_df['text'].apply(lambda x: clean_text(x))"
   ]
  },
  {
   "cell_type": "code",
   "execution_count": 49,
   "metadata": {},
   "outputs": [
    {
     "data": {
      "text/html": [
       "<div>\n",
       "<style scoped>\n",
       "    .dataframe tbody tr th:only-of-type {\n",
       "        vertical-align: middle;\n",
       "    }\n",
       "\n",
       "    .dataframe tbody tr th {\n",
       "        vertical-align: top;\n",
       "    }\n",
       "\n",
       "    .dataframe thead th {\n",
       "        text-align: right;\n",
       "    }\n",
       "</style>\n",
       "<table border=\"1\" class=\"dataframe\">\n",
       "  <thead>\n",
       "    <tr style=\"text-align: right;\">\n",
       "      <th></th>\n",
       "      <th>category</th>\n",
       "      <th>text</th>\n",
       "      <th>label</th>\n",
       "    </tr>\n",
       "  </thead>\n",
       "  <tbody>\n",
       "    <tr>\n",
       "      <td>0</td>\n",
       "      <td>witness</td>\n",
       "      <td>damn wildfir got whole citi smell like bonfir</td>\n",
       "      <td>1</td>\n",
       "    </tr>\n",
       "    <tr>\n",
       "      <td>1</td>\n",
       "      <td>witness</td>\n",
       "      <td>devast see widespread destruct anywher close e...</td>\n",
       "      <td>1</td>\n",
       "    </tr>\n",
       "    <tr>\n",
       "      <td>2</td>\n",
       "      <td>witness</td>\n",
       "      <td>counti cover heavi thick black smoke yet want ...</td>\n",
       "      <td>1</td>\n",
       "    </tr>\n",
       "    <tr>\n",
       "      <td>3</td>\n",
       "      <td>witness</td>\n",
       "      <td>day wildfir day evacu home still hold start br...</td>\n",
       "      <td>1</td>\n",
       "    </tr>\n",
       "    <tr>\n",
       "      <td>4</td>\n",
       "      <td>witness</td>\n",
       "      <td>guess smoke wildfir make epic sunset tonight</td>\n",
       "      <td>1</td>\n",
       "    </tr>\n",
       "    <tr>\n",
       "      <td>...</td>\n",
       "      <td>...</td>\n",
       "      <td>...</td>\n",
       "      <td>...</td>\n",
       "    </tr>\n",
       "    <tr>\n",
       "      <td>1080</td>\n",
       "      <td>dont_know</td>\n",
       "      <td>lrt see hereditari shot unlock memori movi goo...</td>\n",
       "      <td>0</td>\n",
       "    </tr>\n",
       "    <tr>\n",
       "      <td>1081</td>\n",
       "      <td>dont_know</td>\n",
       "      <td>appar movi marathon bc watch radioact good bio...</td>\n",
       "      <td>0</td>\n",
       "    </tr>\n",
       "    <tr>\n",
       "      <td>1082</td>\n",
       "      <td>dont_know</td>\n",
       "      <td>avp realli bad movi except peopl hang sweatshi...</td>\n",
       "      <td>0</td>\n",
       "    </tr>\n",
       "    <tr>\n",
       "      <td>1083</td>\n",
       "      <td>dont_know</td>\n",
       "      <td>old movi poster pure art</td>\n",
       "      <td>0</td>\n",
       "    </tr>\n",
       "    <tr>\n",
       "      <td>1084</td>\n",
       "      <td>dont_know</td>\n",
       "      <td>sinc might abl make mmmc mtv movi award tonigh...</td>\n",
       "      <td>0</td>\n",
       "    </tr>\n",
       "  </tbody>\n",
       "</table>\n",
       "<p>3051 rows × 3 columns</p>\n",
       "</div>"
      ],
      "text/plain": [
       "       category                                               text  label\n",
       "0       witness      damn wildfir got whole citi smell like bonfir      1\n",
       "1       witness  devast see widespread destruct anywher close e...      1\n",
       "2       witness  counti cover heavi thick black smoke yet want ...      1\n",
       "3       witness  day wildfir day evacu home still hold start br...      1\n",
       "4       witness       guess smoke wildfir make epic sunset tonight      1\n",
       "...         ...                                                ...    ...\n",
       "1080  dont_know  lrt see hereditari shot unlock memori movi goo...      0\n",
       "1081  dont_know  appar movi marathon bc watch radioact good bio...      0\n",
       "1082  dont_know  avp realli bad movi except peopl hang sweatshi...      0\n",
       "1083  dont_know                           old movi poster pure art      0\n",
       "1084  dont_know  sinc might abl make mmmc mtv movi award tonigh...      0\n",
       "\n",
       "[3051 rows x 3 columns]"
      ]
     },
     "execution_count": 49,
     "metadata": {},
     "output_type": "execute_result"
    }
   ],
   "source": [
    "final_df"
   ]
  },
  {
   "cell_type": "code",
   "execution_count": 50,
   "metadata": {},
   "outputs": [
    {
     "data": {
      "text/html": [
       "<div>\n",
       "<style scoped>\n",
       "    .dataframe tbody tr th:only-of-type {\n",
       "        vertical-align: middle;\n",
       "    }\n",
       "\n",
       "    .dataframe tbody tr th {\n",
       "        vertical-align: top;\n",
       "    }\n",
       "\n",
       "    .dataframe thead th {\n",
       "        text-align: right;\n",
       "    }\n",
       "</style>\n",
       "<table border=\"1\" class=\"dataframe\">\n",
       "  <thead>\n",
       "    <tr style=\"text-align: right;\">\n",
       "      <th></th>\n",
       "      <th>index</th>\n",
       "      <th>category</th>\n",
       "      <th>text</th>\n",
       "      <th>label</th>\n",
       "    </tr>\n",
       "  </thead>\n",
       "  <tbody>\n",
       "    <tr>\n",
       "      <td>0</td>\n",
       "      <td>0</td>\n",
       "      <td>witness</td>\n",
       "      <td>damn wildfir got whole citi smell like bonfir</td>\n",
       "      <td>1</td>\n",
       "    </tr>\n",
       "    <tr>\n",
       "      <td>1</td>\n",
       "      <td>1</td>\n",
       "      <td>witness</td>\n",
       "      <td>devast see widespread destruct anywher close e...</td>\n",
       "      <td>1</td>\n",
       "    </tr>\n",
       "    <tr>\n",
       "      <td>2</td>\n",
       "      <td>2</td>\n",
       "      <td>witness</td>\n",
       "      <td>counti cover heavi thick black smoke yet want ...</td>\n",
       "      <td>1</td>\n",
       "    </tr>\n",
       "    <tr>\n",
       "      <td>3</td>\n",
       "      <td>3</td>\n",
       "      <td>witness</td>\n",
       "      <td>day wildfir day evacu home still hold start br...</td>\n",
       "      <td>1</td>\n",
       "    </tr>\n",
       "    <tr>\n",
       "      <td>4</td>\n",
       "      <td>4</td>\n",
       "      <td>witness</td>\n",
       "      <td>guess smoke wildfir make epic sunset tonight</td>\n",
       "      <td>1</td>\n",
       "    </tr>\n",
       "    <tr>\n",
       "      <td>...</td>\n",
       "      <td>...</td>\n",
       "      <td>...</td>\n",
       "      <td>...</td>\n",
       "      <td>...</td>\n",
       "    </tr>\n",
       "    <tr>\n",
       "      <td>3046</td>\n",
       "      <td>1080</td>\n",
       "      <td>dont_know</td>\n",
       "      <td>lrt see hereditari shot unlock memori movi goo...</td>\n",
       "      <td>0</td>\n",
       "    </tr>\n",
       "    <tr>\n",
       "      <td>3047</td>\n",
       "      <td>1081</td>\n",
       "      <td>dont_know</td>\n",
       "      <td>appar movi marathon bc watch radioact good bio...</td>\n",
       "      <td>0</td>\n",
       "    </tr>\n",
       "    <tr>\n",
       "      <td>3048</td>\n",
       "      <td>1082</td>\n",
       "      <td>dont_know</td>\n",
       "      <td>avp realli bad movi except peopl hang sweatshi...</td>\n",
       "      <td>0</td>\n",
       "    </tr>\n",
       "    <tr>\n",
       "      <td>3049</td>\n",
       "      <td>1083</td>\n",
       "      <td>dont_know</td>\n",
       "      <td>old movi poster pure art</td>\n",
       "      <td>0</td>\n",
       "    </tr>\n",
       "    <tr>\n",
       "      <td>3050</td>\n",
       "      <td>1084</td>\n",
       "      <td>dont_know</td>\n",
       "      <td>sinc might abl make mmmc mtv movi award tonigh...</td>\n",
       "      <td>0</td>\n",
       "    </tr>\n",
       "  </tbody>\n",
       "</table>\n",
       "<p>3051 rows × 4 columns</p>\n",
       "</div>"
      ],
      "text/plain": [
       "      index   category                                               text  \\\n",
       "0         0    witness      damn wildfir got whole citi smell like bonfir   \n",
       "1         1    witness  devast see widespread destruct anywher close e...   \n",
       "2         2    witness  counti cover heavi thick black smoke yet want ...   \n",
       "3         3    witness  day wildfir day evacu home still hold start br...   \n",
       "4         4    witness       guess smoke wildfir make epic sunset tonight   \n",
       "...     ...        ...                                                ...   \n",
       "3046   1080  dont_know  lrt see hereditari shot unlock memori movi goo...   \n",
       "3047   1081  dont_know  appar movi marathon bc watch radioact good bio...   \n",
       "3048   1082  dont_know  avp realli bad movi except peopl hang sweatshi...   \n",
       "3049   1083  dont_know                           old movi poster pure art   \n",
       "3050   1084  dont_know  sinc might abl make mmmc mtv movi award tonigh...   \n",
       "\n",
       "      label  \n",
       "0         1  \n",
       "1         1  \n",
       "2         1  \n",
       "3         1  \n",
       "4         1  \n",
       "...     ...  \n",
       "3046      0  \n",
       "3047      0  \n",
       "3048      0  \n",
       "3049      0  \n",
       "3050      0  \n",
       "\n",
       "[3051 rows x 4 columns]"
      ]
     },
     "execution_count": 50,
     "metadata": {},
     "output_type": "execute_result"
    }
   ],
   "source": [
    "final_df.reset_index()"
   ]
  },
  {
   "cell_type": "code",
   "execution_count": 51,
   "metadata": {},
   "outputs": [
    {
     "data": {
      "text/plain": [
       "category    dont_know\n",
       "text                 \n",
       "label               0\n",
       "Name: 94, dtype: object"
      ]
     },
     "execution_count": 51,
     "metadata": {},
     "output_type": "execute_result"
    }
   ],
   "source": [
    "final_df.iloc[2060]"
   ]
  },
  {
   "cell_type": "code",
   "execution_count": 52,
   "metadata": {},
   "outputs": [
    {
     "data": {
      "text/plain": [
       "category    dont_know\n",
       "text                 \n",
       "label               0\n",
       "Name: 152, dtype: object"
      ]
     },
     "execution_count": 52,
     "metadata": {},
     "output_type": "execute_result"
    }
   ],
   "source": [
    "final_df.iloc[2118]"
   ]
  },
  {
   "cell_type": "code",
   "execution_count": 53,
   "metadata": {},
   "outputs": [
    {
     "data": {
      "text/plain": [
       "category    dont_know\n",
       "text                 \n",
       "label               0\n",
       "Name: 517, dtype: object"
      ]
     },
     "execution_count": 53,
     "metadata": {},
     "output_type": "execute_result"
    }
   ],
   "source": [
    "final_df.iloc[2483]"
   ]
  },
  {
   "cell_type": "code",
   "execution_count": 54,
   "metadata": {},
   "outputs": [
    {
     "data": {
      "text/plain": [
       "category    dont_know\n",
       "text                 \n",
       "label               0\n",
       "Name: 890, dtype: object"
      ]
     },
     "execution_count": 54,
     "metadata": {},
     "output_type": "execute_result"
    }
   ],
   "source": [
    "final_df.iloc[2856]"
   ]
  },
  {
   "cell_type": "code",
   "execution_count": 55,
   "metadata": {},
   "outputs": [],
   "source": [
    "final_df['text'].replace('', np.nan, inplace=True)"
   ]
  },
  {
   "cell_type": "code",
   "execution_count": 56,
   "metadata": {},
   "outputs": [
    {
     "data": {
      "text/plain": [
       "category    dont_know\n",
       "text              NaN\n",
       "label               0\n",
       "Name: 94, dtype: object"
      ]
     },
     "execution_count": 56,
     "metadata": {},
     "output_type": "execute_result"
    }
   ],
   "source": [
    "final_df.iloc[2060]"
   ]
  },
  {
   "cell_type": "code",
   "execution_count": 57,
   "metadata": {},
   "outputs": [
    {
     "data": {
      "text/plain": [
       "category    0\n",
       "text        4\n",
       "label       0\n",
       "dtype: int64"
      ]
     },
     "execution_count": 57,
     "metadata": {},
     "output_type": "execute_result"
    }
   ],
   "source": [
    "final_df.isnull().sum()"
   ]
  },
  {
   "cell_type": "code",
   "execution_count": 58,
   "metadata": {},
   "outputs": [],
   "source": [
    "final_df.dropna(inplace=True)"
   ]
  },
  {
   "cell_type": "code",
   "execution_count": 59,
   "metadata": {},
   "outputs": [
    {
     "data": {
      "text/plain": [
       "category    0\n",
       "text        0\n",
       "label       0\n",
       "dtype: int64"
      ]
     },
     "execution_count": 59,
     "metadata": {},
     "output_type": "execute_result"
    }
   ],
   "source": [
    "final_df.isnull().sum()"
   ]
  },
  {
   "cell_type": "code",
   "execution_count": 60,
   "metadata": {},
   "outputs": [
    {
     "data": {
      "text/plain": [
       "(3047, 3)"
      ]
     },
     "execution_count": 60,
     "metadata": {},
     "output_type": "execute_result"
    }
   ],
   "source": [
    "final_df.shape"
   ]
  },
  {
   "cell_type": "code",
   "execution_count": 61,
   "metadata": {},
   "outputs": [
    {
     "data": {
      "text/plain": [
       "1    1544\n",
       "0    1503\n",
       "Name: label, dtype: int64"
      ]
     },
     "execution_count": 61,
     "metadata": {},
     "output_type": "execute_result"
    }
   ],
   "source": [
    "final_df['label'].value_counts()"
   ]
  },
  {
   "cell_type": "code",
   "execution_count": 62,
   "metadata": {},
   "outputs": [],
   "source": [
    "#Export cleaned df\n",
    "final_df.to_csv('cleaned_train_data.csv', index=False)"
   ]
  },
  {
   "cell_type": "markdown",
   "metadata": {},
   "source": [
    "## High Frequency Word Plot for Relevant Twitter comments\n"
   ]
  },
  {
   "cell_type": "code",
   "execution_count": 63,
   "metadata": {},
   "outputs": [],
   "source": [
    "cvec = CountVectorizer(max_features=20)"
   ]
  },
  {
   "cell_type": "code",
   "execution_count": 64,
   "metadata": {},
   "outputs": [],
   "source": [
    "relevant_cvec = cvec.fit_transform(final_df[final_df['label']==1]['text'])"
   ]
  },
  {
   "cell_type": "code",
   "execution_count": 65,
   "metadata": {},
   "outputs": [],
   "source": [
    "relevant_df = pd.DataFrame(relevant_cvec.todense(), columns=cvec.get_feature_names())"
   ]
  },
  {
   "cell_type": "code",
   "execution_count": 66,
   "metadata": {},
   "outputs": [],
   "source": [
    "relevant_word_sum = relevant_df.sum().sort_values()"
   ]
  },
  {
   "cell_type": "code",
   "execution_count": 67,
   "metadata": {},
   "outputs": [
    {
     "data": {
      "image/png": "[encoded data removed]",
      "text/plain": [
       "<Figure size 720x864 with 1 Axes>"
      ]
     },
     "metadata": {
      "needs_background": "light"
     },
     "output_type": "display_data"
    }
   ],
   "source": [
    "plt.figure(figsize=(10,12));\n",
    "plt.barh(relevant_word_sum.index, relevant_word_sum);\n",
    "plt.title('Top 20 High Frequent Words', fontsize=18)\n",
    "plt.xlabel('Word Frequency', fontsize=18)\n",
    "plt.ylabel('Words', fontsize=18)\n",
    "plt.tick_params(labelsize=15)"
   ]
  },
  {
   "cell_type": "code",
   "execution_count": null,
   "metadata": {},
   "outputs": [],
   "source": []
  }
 ],
 "metadata": {
  "kernelspec": {
   "display_name": "Python 3",
   "language": "python",
   "name": "python3"
  },
  "language_info": {
   "codemirror_mode": {
    "name": "ipython",
    "version": 3
   },
   "file_extension": ".py",
   "mimetype": "text/x-python",
   "name": "python",
   "nbconvert_exporter": "python",
   "pygments_lexer": "ipython3",
   "version": "3.7.6"
  }
 },
 "nbformat": 4,
 "nbformat_minor": 4
}
